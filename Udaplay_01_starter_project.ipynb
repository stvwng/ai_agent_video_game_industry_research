{
 "cells": [
  {
   "cell_type": "markdown",
   "id": "6fdd0bcb",
   "metadata": {},
   "source": [
    "# [STARTER] Udaplay Project"
   ]
  },
  {
   "cell_type": "markdown",
   "id": "9325b035",
   "metadata": {},
   "source": [
    "## Part 01 - Offline RAG\n",
    "\n",
    "In this part of the project, you'll build your VectorDB using Chroma.\n",
    "\n",
    "The data is inside folder `project/starter/games`. Each file will become a document in the collection you'll create.\n",
    "Example.:\n",
    "```json\n",
    "{\n",
    "  \"Name\": \"Gran Turismo\",\n",
    "  \"Platform\": \"PlayStation 1\",\n",
    "  \"Genre\": \"Racing\",\n",
    "  \"Publisher\": \"Sony Computer Entertainment\",\n",
    "  \"Description\": \"A realistic racing simulator featuring a wide array of cars and tracks, setting a new standard for the genre.\",\n",
    "  \"YearOfRelease\": 1997\n",
    "}\n",
    "```\n"
   ]
  },
  {
   "cell_type": "markdown",
   "id": "2b42de90",
   "metadata": {},
   "source": [
    "### Setup"
   ]
  },
  {
   "cell_type": "code",
   "execution_count": 8,
   "id": "a8d56169",
   "metadata": {},
   "outputs": [],
   "source": [
    "import os\n",
    "import json\n",
    "import chromadb\n",
    "from chromadb.utils import embedding_functions"
   ]
  },
  {
   "cell_type": "code",
   "execution_count": 9,
   "id": "fd10c06e",
   "metadata": {},
   "outputs": [],
   "source": [
    "OPENAI_API_KEY=os.getenv(\"OPENAI_API_KEY\")\n",
    "# CHROMA_OPENAI_API_KEY=os.getenv(\"OPENAI_API_KEY\")\n",
    "# Local Chroma instance does not require API key; use OpenAI API key for OpenAI embeddings with Chroma\n",
    "TAVILY_API_KEY=os.getenv(\"TAVILY_API_KEY\")"
   ]
  },
  {
   "cell_type": "markdown",
   "id": "27de4729",
   "metadata": {},
   "source": [
    "### VectorDB Instance"
   ]
  },
  {
   "cell_type": "code",
   "execution_count": 10,
   "id": "b25c36dd",
   "metadata": {},
   "outputs": [],
   "source": [
    "# Instantiate Chroma persistent client\n",
    "chroma_client = chromadb.PersistentClient(path=\"chromadb\")"
   ]
  },
  {
   "cell_type": "markdown",
   "id": "df844b3b",
   "metadata": {},
   "source": [
    "### Collection"
   ]
  },
  {
   "cell_type": "code",
   "execution_count": 11,
   "id": "31c56281",
   "metadata": {},
   "outputs": [],
   "source": [
    "embedding_fn = embedding_functions.OpenAIEmbeddingFunction(api_key=OPENAI_API_KEY)"
   ]
  },
  {
   "cell_type": "code",
   "execution_count": 12,
   "id": "0ec23893",
   "metadata": {},
   "outputs": [],
   "source": [
    "collection_name = \"udaplay\"\n",
    "\n",
    "collection = chroma_client.get_or_create_collection(\n",
    "   name=collection_name,\n",
    "   embedding_function=embedding_fn\n",
    ")"
   ]
  },
  {
   "cell_type": "markdown",
   "id": "f0a55081",
   "metadata": {},
   "source": [
    "### Add documents"
   ]
  },
  {
   "cell_type": "code",
   "execution_count": 13,
   "id": "eb83fbb1",
   "metadata": {},
   "outputs": [],
   "source": [
    "# Make sure you have a directory \"project/starter/games\"\n",
    "data_dir = \"games\"\n",
    "\n",
    "for file_name in sorted(os.listdir(data_dir)):\n",
    "    if not file_name.endswith(\".json\"):\n",
    "        continue\n",
    "\n",
    "    file_path = os.path.join(data_dir, file_name)\n",
    "    with open(file_path, \"r\", encoding=\"utf-8\") as f:\n",
    "        game = json.load(f)\n",
    "\n",
    "    # You can change what text you want to index\n",
    "    content = f\"[{game['Platform']}] {game['Name']} ({game['YearOfRelease']}) - {game['Description']}\"\n",
    "\n",
    "    # Use file name (like 001) as ID\n",
    "    doc_id = os.path.splitext(file_name)[0]\n",
    "\n",
    "    collection.add(\n",
    "        ids=[doc_id],\n",
    "        documents=[content],\n",
    "        metadatas=[game]\n",
    "    )"
   ]
  },
  {
   "cell_type": "markdown",
   "id": "c698c224",
   "metadata": {},
   "source": [
    "## Semantic Search"
   ]
  },
  {
   "cell_type": "code",
   "execution_count": 16,
   "id": "65ab8a64",
   "metadata": {},
   "outputs": [
    {
     "data": {
      "text/plain": [
       "{'ids': [['003', '001', '002']],\n",
       " 'embeddings': None,\n",
       " 'documents': [['[PlayStation 3] Gran Turismo 5 (2010) - A comprehensive racing simulator featuring a vast selection of vehicles and tracks, with realistic driving physics.',\n",
       "   '[PlayStation 1] Gran Turismo (1997) - A realistic racing simulator featuring a wide array of cars and tracks, setting a new standard for the genre.',\n",
       "   \"[PlayStation 2] Grand Theft Auto: San Andreas (2004) - An expansive open-world game set in the fictional state of San Andreas, following the story of Carl 'CJ' Johnson.\"]],\n",
       " 'uris': None,\n",
       " 'included': ['documents', 'metadatas'],\n",
       " 'data': None,\n",
       " 'metadatas': [[{'Name': 'Gran Turismo 5',\n",
       "    'Genre': 'Racing',\n",
       "    'YearOfRelease': 2010,\n",
       "    'Publisher': 'Sony Computer Entertainment',\n",
       "    'Description': 'A comprehensive racing simulator featuring a vast selection of vehicles and tracks, with realistic driving physics.',\n",
       "    'Platform': 'PlayStation 3'},\n",
       "   {'Name': 'Gran Turismo',\n",
       "    'Platform': 'PlayStation 1',\n",
       "    'Publisher': 'Sony Computer Entertainment',\n",
       "    'Genre': 'Racing',\n",
       "    'Description': 'A realistic racing simulator featuring a wide array of cars and tracks, setting a new standard for the genre.',\n",
       "    'YearOfRelease': 1997},\n",
       "   {'Name': 'Grand Theft Auto: San Andreas',\n",
       "    'Description': \"An expansive open-world game set in the fictional state of San Andreas, following the story of Carl 'CJ' Johnson.\",\n",
       "    'Publisher': 'Rockstar Games',\n",
       "    'Platform': 'PlayStation 2',\n",
       "    'Genre': 'Action-adventure',\n",
       "    'YearOfRelease': 2004}]],\n",
       " 'distances': None}"
      ]
     },
     "execution_count": 16,
     "metadata": {},
     "output_type": "execute_result"
    }
   ],
   "source": [
    "query = \"When was Gran Turismo 5 released?\"\n",
    "\n",
    "results = collection.query(\n",
    "    query_texts=[query],\n",
    "    n_results=3,\n",
    "    include=['documents', 'metadatas']\n",
    "    )\n",
    "\n",
    "results"
   ]
  },
  {
   "cell_type": "code",
   "execution_count": null,
   "id": "ea66a68e",
   "metadata": {},
   "outputs": [],
   "source": []
  }
 ],
 "metadata": {
  "kernelspec": {
   "display_name": ".venv",
   "language": "python",
   "name": "python3"
  },
  "language_info": {
   "codemirror_mode": {
    "name": "ipython",
    "version": 3
   },
   "file_extension": ".py",
   "mimetype": "text/x-python",
   "name": "python",
   "nbconvert_exporter": "python",
   "pygments_lexer": "ipython3",
   "version": "3.11.7"
  }
 },
 "nbformat": 4,
 "nbformat_minor": 5
}
