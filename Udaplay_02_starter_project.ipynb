{
 "cells": [
  {
   "cell_type": "markdown",
   "id": "6fdd0bcb",
   "metadata": {},
   "source": [
    "# [STARTER] Udaplay Project"
   ]
  },
  {
   "cell_type": "markdown",
   "id": "9325b035",
   "metadata": {},
   "source": [
    "## Part 02 - Agent\n",
    "\n",
    "In this part of the project, you'll use your VectorDB to be part of your Agent as a tool.\n",
    "\n",
    "You're building UdaPlay, an AI Research Agent for the video game industry. The agent will:\n",
    "1. Answer questions using internal knowledge (RAG)\n",
    "2. Search the web when needed\n",
    "3. Maintain conversation state\n",
    "4. Return structured outputs\n",
    "5. Store useful information for future use"
   ]
  },
  {
   "cell_type": "markdown",
   "id": "2b42de90",
   "metadata": {},
   "source": [
    "### Setup"
   ]
  },
  {
   "cell_type": "code",
   "execution_count": null,
   "id": "fd10c06e",
   "metadata": {},
   "outputs": [],
   "source": [
    "import os\n",
    "\n",
    "from lib.agents import Agent, AgentState\n",
    "from lib.llm import LLM\n",
    "from lib.messages import UserMessage, SystemMessage, ToolMessage, AIMessage, BaseMessage\n",
    "from lib.tooling import tool\n",
    "\n",
    "import chromadb\n",
    "from lib.state_machine import Run, Resource, StateMachine, Step, EntryPoint, Termination, Run\n",
    "from typing import List, TypedDict\n",
    "from chromadb.api.models.Collection import Collection\n",
    "from lib.vector_db import VectorStoreManager, CorpusLoaderService\n",
    "from lib.rag import RAG\n",
    "\n",
    "from chromadb.utils import embedding_functions\n",
    "from typing import Dict\n",
    "from tavily import TavilyClient\n",
    "from datetime import datetime\n",
    "\n",
    "from openai import OpenAI"
   ]
  },
  {
   "cell_type": "code",
   "execution_count": 2,
   "id": "87e465d4",
   "metadata": {},
   "outputs": [],
   "source": [
    "OPENAI_API_KEY = os.getenv(\"OPENAI_API_KEY\")\n",
    "TAVILY_API_KEY = os.getenv(\"TAVILY_API_KEY\")"
   ]
  },
  {
   "cell_type": "markdown",
   "id": "27de4729",
   "metadata": {},
   "source": [
    "### Tools"
   ]
  },
  {
   "cell_type": "markdown",
   "id": "46ab2dac",
   "metadata": {},
   "source": [
    "Build at least 3 tools:\n",
    "- retrieve_game: To search the vector DB\n",
    "- evaluate_retrieval: To assess the retrieval performance\n",
    "- game_web_search: If no good, search the web\n"
   ]
  },
  {
   "cell_type": "markdown",
   "id": "ce4f14cd",
   "metadata": {},
   "source": [
    "#### Retrieve Game Tool"
   ]
  },
  {
   "cell_type": "code",
   "execution_count": 15,
   "id": "b25c36dd",
   "metadata": {},
   "outputs": [],
   "source": [
    "# TODO: Create retrieve_game tool\n",
    "# It should use chroma client and collection you created\n",
    "\n",
    "embedding_fn = embedding_functions.OpenAIEmbeddingFunction(api_key=OPENAI_API_KEY)\n",
    "chroma_client = chromadb.PersistentClient(path=\"chromadb\")\n",
    "collection = chroma_client.get_collection(name=\"udaplay\", embedding_function=embedding_fn)\n",
    "# Need to pass embedding function so dimensions match\n",
    "# The collection was created with an OpenAI embedding model, which has a dimension size of 1536.\n",
    "# However, it appears that Chroma uses an embedding model with a dimension size of 384 to embed the query.\n",
    "# So, if the embedding_function is not passed to get_collection(),  and then\n",
    "# the query() method is called on the collection, this will result in:\n",
    "# chromadb.errors.InvalidArgumentError: Collection expecting embedding with dimension of 1536, got 384\n",
    "# Essentially, the dimensions don't match, and passing embedding_function to get_collections() fixes this.\n",
    "\n",
    "# Tool Docstring:\n",
    "#    Semantic search: Finds most results in the vector DB\n",
    "#    args:\n",
    "#    - query: a question about game industry. \n",
    "#\n",
    "#    You'll receive results as list. Each element contains:\n",
    "#    - Platform: like Game Boy, Playstation 5, Xbox 360...)\n",
    "#    - Name: Name of the Game\n",
    "#    - YearOfRelease: Year when that game was released for that platform\n",
    "#    - Description: Additional details about the game\n",
    "\n",
    "@tool\n",
    "def retrieve_game(query: str):\n",
    "    results = collection.query(\n",
    "    query_texts=[query],\n",
    "    n_results=3,\n",
    "    include=['documents', 'metadatas']\n",
    "    )\n",
    "    return results"
   ]
  },
  {
   "cell_type": "code",
   "execution_count": 16,
   "id": "22460881",
   "metadata": {},
   "outputs": [
    {
     "data": {
      "text/plain": [
       "{'ids': ['001', '002', '003', '004', '005', '006', '007', '008', '009', '010'],\n",
       " 'embeddings': array([[-0.00270652, -0.01438423, -0.0094357 , ..., -0.02086851,\n",
       "         -0.00733747, -0.03789448],\n",
       "        [-0.00149212, -0.02129163,  0.00150162, ..., -0.04491242,\n",
       "         -0.00209182,  0.00053008],\n",
       "        [-0.01168427, -0.00465201,  0.00187931, ..., -0.02636779,\n",
       "         -0.00329597, -0.0358122 ],\n",
       "        ...,\n",
       "        [ 0.01998285, -0.05459335,  0.00992325, ..., -0.02266045,\n",
       "         -0.0161152 ,  0.00111179],\n",
       "        [ 0.00100258, -0.0505378 ,  0.0078321 , ..., -0.01040299,\n",
       "         -0.01144015, -0.01337618],\n",
       "        [-0.01217713, -0.02789508, -0.00563168, ..., -0.0383018 ,\n",
       "         -0.00480359, -0.00478138]], shape=(10, 1536)),\n",
       " 'documents': ['[PlayStation 1] Gran Turismo (1997) - A realistic racing simulator featuring a wide array of cars and tracks, setting a new standard for the genre.',\n",
       "  \"[PlayStation 2] Grand Theft Auto: San Andreas (2004) - An expansive open-world game set in the fictional state of San Andreas, following the story of Carl 'CJ' Johnson.\",\n",
       "  '[PlayStation 3] Gran Turismo 5 (2010) - A comprehensive racing simulator featuring a vast selection of vehicles and tracks, with realistic driving physics.',\n",
       "  \"[PlayStation 4] Marvel's Spider-Man (2018) - An open-world superhero game that lets players swing through New York City as Spider-Man, battling iconic villains.\",\n",
       "  \"[PlayStation 5] Marvel's Spider-Man 2 (2023) - The sequel to the acclaimed Spider-Man game, featuring both Peter Parker and Miles Morales as playable characters.\",\n",
       "  '[Game Boy Color] Pokémon Gold and Silver (1999) - Second-generation Pokémon games introducing new regions, Pokémon, and gameplay mechanics.',\n",
       "  '[Game Boy Advance] Pokémon Ruby and Sapphire (2002) - Third-generation Pokémon games set in the Hoenn region, featuring new Pokémon and double battles.',\n",
       "  '[Super Nintendo Entertainment System (SNES)] Super Mario World (1990) - A classic platformer where Mario embarks on a quest to save Princess Toadstool and Dinosaur Land from Bowser.',\n",
       "  \"[Nintendo 64] Super Mario 64 (1996) - A groundbreaking 3D platformer that set new standards for the genre, featuring Mario's quest to rescue Princess Peach.\",\n",
       "  '[GameCube] Super Smash Bros. Melee (2001) - A crossover fighting game featuring characters from various Nintendo franchises battling it out in dynamic arenas.'],\n",
       " 'uris': None,\n",
       " 'included': ['metadatas', 'documents', 'embeddings'],\n",
       " 'data': None,\n",
       " 'metadatas': [{'Genre': 'Racing',\n",
       "   'Publisher': 'Sony Computer Entertainment',\n",
       "   'YearOfRelease': 1997,\n",
       "   'Description': 'A realistic racing simulator featuring a wide array of cars and tracks, setting a new standard for the genre.',\n",
       "   'Platform': 'PlayStation 1',\n",
       "   'Name': 'Gran Turismo'},\n",
       "  {'Publisher': 'Rockstar Games',\n",
       "   'Platform': 'PlayStation 2',\n",
       "   'Genre': 'Action-adventure',\n",
       "   'Name': 'Grand Theft Auto: San Andreas',\n",
       "   'YearOfRelease': 2004,\n",
       "   'Description': \"An expansive open-world game set in the fictional state of San Andreas, following the story of Carl 'CJ' Johnson.\"},\n",
       "  {'Platform': 'PlayStation 3',\n",
       "   'Publisher': 'Sony Computer Entertainment',\n",
       "   'Genre': 'Racing',\n",
       "   'YearOfRelease': 2010,\n",
       "   'Name': 'Gran Turismo 5',\n",
       "   'Description': 'A comprehensive racing simulator featuring a vast selection of vehicles and tracks, with realistic driving physics.'},\n",
       "  {'Description': 'An open-world superhero game that lets players swing through New York City as Spider-Man, battling iconic villains.',\n",
       "   'Genre': 'Action-adventure',\n",
       "   'Name': \"Marvel's Spider-Man\",\n",
       "   'YearOfRelease': 2018,\n",
       "   'Publisher': 'Sony Interactive Entertainment',\n",
       "   'Platform': 'PlayStation 4'},\n",
       "  {'Description': 'The sequel to the acclaimed Spider-Man game, featuring both Peter Parker and Miles Morales as playable characters.',\n",
       "   'Genre': 'Action-adventure',\n",
       "   'YearOfRelease': 2023,\n",
       "   'Name': \"Marvel's Spider-Man 2\",\n",
       "   'Publisher': 'Sony Interactive Entertainment',\n",
       "   'Platform': 'PlayStation 5'},\n",
       "  {'Platform': 'Game Boy Color',\n",
       "   'YearOfRelease': 1999,\n",
       "   'Genre': 'Role-playing',\n",
       "   'Description': 'Second-generation Pokémon games introducing new regions, Pokémon, and gameplay mechanics.',\n",
       "   'Name': 'Pokémon Gold and Silver',\n",
       "   'Publisher': 'Nintendo'},\n",
       "  {'Name': 'Pokémon Ruby and Sapphire',\n",
       "   'Description': 'Third-generation Pokémon games set in the Hoenn region, featuring new Pokémon and double battles.',\n",
       "   'YearOfRelease': 2002,\n",
       "   'Platform': 'Game Boy Advance',\n",
       "   'Genre': 'Role-playing',\n",
       "   'Publisher': 'Nintendo'},\n",
       "  {'Description': 'A classic platformer where Mario embarks on a quest to save Princess Toadstool and Dinosaur Land from Bowser.',\n",
       "   'Genre': 'Platformer',\n",
       "   'Platform': 'Super Nintendo Entertainment System (SNES)',\n",
       "   'Publisher': 'Nintendo',\n",
       "   'YearOfRelease': 1990,\n",
       "   'Name': 'Super Mario World'},\n",
       "  {'Genre': 'Platformer',\n",
       "   'YearOfRelease': 1996,\n",
       "   'Description': \"A groundbreaking 3D platformer that set new standards for the genre, featuring Mario's quest to rescue Princess Peach.\",\n",
       "   'Publisher': 'Nintendo',\n",
       "   'Name': 'Super Mario 64',\n",
       "   'Platform': 'Nintendo 64'},\n",
       "  {'Publisher': 'Nintendo',\n",
       "   'Genre': 'Fighting',\n",
       "   'Description': 'A crossover fighting game featuring characters from various Nintendo franchises battling it out in dynamic arenas.',\n",
       "   'YearOfRelease': 2001,\n",
       "   'Platform': 'GameCube',\n",
       "   'Name': 'Super Smash Bros. Melee'}]}"
      ]
     },
     "execution_count": 16,
     "metadata": {},
     "output_type": "execute_result"
    }
   ],
   "source": [
    "collection.peek() # confirm collection has been successfully retrieved"
   ]
  },
  {
   "cell_type": "code",
   "execution_count": 17,
   "id": "c25f11f2",
   "metadata": {},
   "outputs": [
    {
     "data": {
      "text/plain": [
       "{'ids': [['003', '001', '002']],\n",
       " 'embeddings': None,\n",
       " 'documents': [['[PlayStation 3] Gran Turismo 5 (2010) - A comprehensive racing simulator featuring a vast selection of vehicles and tracks, with realistic driving physics.',\n",
       "   '[PlayStation 1] Gran Turismo (1997) - A realistic racing simulator featuring a wide array of cars and tracks, setting a new standard for the genre.',\n",
       "   \"[PlayStation 2] Grand Theft Auto: San Andreas (2004) - An expansive open-world game set in the fictional state of San Andreas, following the story of Carl 'CJ' Johnson.\"]],\n",
       " 'uris': None,\n",
       " 'included': ['documents', 'metadatas'],\n",
       " 'data': None,\n",
       " 'metadatas': [[{'Description': 'A comprehensive racing simulator featuring a vast selection of vehicles and tracks, with realistic driving physics.',\n",
       "    'Platform': 'PlayStation 3',\n",
       "    'Genre': 'Racing',\n",
       "    'YearOfRelease': 2010,\n",
       "    'Name': 'Gran Turismo 5',\n",
       "    'Publisher': 'Sony Computer Entertainment'},\n",
       "   {'Genre': 'Racing',\n",
       "    'Platform': 'PlayStation 1',\n",
       "    'Description': 'A realistic racing simulator featuring a wide array of cars and tracks, setting a new standard for the genre.',\n",
       "    'YearOfRelease': 1997,\n",
       "    'Name': 'Gran Turismo',\n",
       "    'Publisher': 'Sony Computer Entertainment'},\n",
       "   {'Publisher': 'Rockstar Games',\n",
       "    'Description': \"An expansive open-world game set in the fictional state of San Andreas, following the story of Carl 'CJ' Johnson.\",\n",
       "    'Genre': 'Action-adventure',\n",
       "    'Name': 'Grand Theft Auto: San Andreas',\n",
       "    'YearOfRelease': 2004,\n",
       "    'Platform': 'PlayStation 2'}]],\n",
       " 'distances': None}"
      ]
     },
     "execution_count": 17,
     "metadata": {},
     "output_type": "execute_result"
    }
   ],
   "source": [
    "question = \"I like to drive. What games would I like?\"\n",
    "answer = retrieve_game(question)\n",
    "\n",
    "answer"
   ]
  },
  {
   "cell_type": "markdown",
   "id": "910dc945",
   "metadata": {},
   "source": [
    "#### Evaluate Retrieval Tool"
   ]
  },
  {
   "cell_type": "code",
   "execution_count": 23,
   "id": "0d9d014b",
   "metadata": {},
   "outputs": [],
   "source": [
    "# TODO: Create evaluate_retrieval tool\n",
    "# You might use an LLM as judge in this tool to evaluate the performance\n",
    "# You need to prompt that LLM with something like:\n",
    "# \"Your task is to evaluate if the documents are enough to respond the query. \"\n",
    "# \"Give a detailed explanation, so it's possible to take an action to accept it or not.\"\n",
    "# Use EvaluationReport to parse the result\n",
    "# Tool Docstring:\n",
    "#    Based on the user's question and on the list of retrieved documents, \n",
    "#    it will analyze the usability of the documents to respond to that question. \n",
    "#    args: \n",
    "#    - question: original question from user\n",
    "#    - retrieved_docs: retrieved documents most similar to the user query in the Vector Database\n",
    "#    The result includes:\n",
    "#    - useful: whether the documents are useful to answer the question\n",
    "#    - description: description about the evaluation result\n",
    "\n",
    "\n",
    "\n",
    "evaluation_prompt = \"\"\"\n",
    "    Your task is to evaluate if the documents are enough to respond to the query. \n",
    "    \n",
    "    OUTPUT FORMAT:\n",
    "    \n",
    "    Your answer should consist of two parts:\n",
    "    1. A boolean value for whether the documents are sufficient to respond to the query.\n",
    "    2. A detailed explanation of your reasoning\n",
    "    \n",
    "    Provide your response as a JSON object in the following format:\n",
    "    \n",
    "    {\n",
    "        \"sufficient\": \"True\" | \"False\",\n",
    "        \"reasoning\": \" ... \"\n",
    "    }\n",
    "    \"\"\"\n",
    "\n",
    "client = OpenAI()\n",
    "\n",
    "@tool\n",
    "def evaluate_retrieval(question: str, retrieved_docs: list[str]):\n",
    "    \n",
    "    input = f\"\"\"\n",
    "\n",
    "    QUERY: {question}\n",
    "    \n",
    "    DOCUMENTS: {retrieved_docs}\n",
    "    \"\"\"\n",
    "\n",
    "    response = client.responses.create(\n",
    "        instructions=evaluation_prompt,\n",
    "        model=\"gpt-4o-mini\",\n",
    "        input=input\n",
    "    )\n",
    "    \n",
    "    return response.output_text"
   ]
  },
  {
   "cell_type": "code",
   "execution_count": 24,
   "id": "fc71845e",
   "metadata": {},
   "outputs": [
    {
     "name": "stdout",
     "output_type": "stream",
     "text": [
      "{\n",
      "    \"sufficient\": \"True\",\n",
      "    \"reasoning\": \"The documents provide information about several driving-related games, specifically naming titles from the Gran Turismo series, which are known for their driving simulation qualities. Additionally, the mention of Grand Theft Auto: San Andreas adds variety by including a game with driving elements within an open-world context. Given the query expresses an interest in driving, the documents sufficiently cover this interest by recommending specific games that align well with that preference.\"\n",
      "}\n"
     ]
    }
   ],
   "source": [
    "print(evaluate_retrieval(question, answer['documents']))\n",
    "\n"
   ]
  },
  {
   "cell_type": "code",
   "execution_count": 27,
   "id": "385779f8",
   "metadata": {},
   "outputs": [
    {
     "name": "stdout",
     "output_type": "stream",
     "text": [
      "{'sufficient': 'False', 'reasoning': 'The documents provided focus solely on various racing games, specifically titles from the Gran Turismo and Grand Theft Auto series. There is no mention of Tetris or any information related to its most recent version and release date. Therefore, the documents do not contain the necessary information to answer the query.'}\n",
      "The documents provided focus solely on various racing games, specifically titles from the Gran Turismo and Grand Theft Auto series. There is no mention of Tetris or any information related to its most recent version and release date. Therefore, the documents do not contain the necessary information to answer the query.\n"
     ]
    }
   ],
   "source": [
    "question2 = \"What is the most recent version of Tetris, and when did it come out?\"\n",
    "eval = evaluate_retrieval(question2, answer['documents'])\n",
    "import json\n",
    "\n",
    "eval_dict = json.loads(eval)\n",
    "print(eval_dict)\n",
    "print(eval_dict[\"reasoning\"])"
   ]
  },
  {
   "cell_type": "markdown",
   "id": "c7935a26",
   "metadata": {},
   "source": [
    "#### Game Web Search Tool"
   ]
  },
  {
   "cell_type": "code",
   "execution_count": 10,
   "id": "2ad698aa",
   "metadata": {},
   "outputs": [],
   "source": [
    "# TODO: Create game_web_search tool\n",
    "# Please use Tavily client to search the web\n",
    "# Tool Docstring:\n",
    "#    Semantic search: Finds most results in the vector DB\n",
    "#    args:\n",
    "#    - question: a question about game industry. \n",
    "\n",
    "@tool\n",
    "def web_search(query: str, search_depth: str = \"advanced\") -> Dict:\n",
    "    \"\"\"\n",
    "    Search the web using Tavily API\n",
    "    args:\n",
    "        query (str): Search query\n",
    "        search_depth (str): Type of search - 'basic' or 'advanced' (default: advanced)\n",
    "    \"\"\"\n",
    "    client = TavilyClient(api_key=TAVILY_API_KEY)\n",
    "    \n",
    "    # Perform the search\n",
    "    search_result = client.search(\n",
    "        query=query,\n",
    "        search_depth=search_depth,\n",
    "        include_answer=True,\n",
    "        include_raw_content=False,\n",
    "        include_images=False\n",
    "    )\n",
    "    \n",
    "    # Format the results\n",
    "    formatted_results = {\n",
    "        \"answer\": search_result.get(\"answer\", \"\"),\n",
    "        \"results\": search_result.get(\"results\", []),\n",
    "        \"search_metadata\": {\n",
    "            \"timestamp\": datetime.now().isoformat(),\n",
    "            \"query\": query\n",
    "        }\n",
    "    }\n",
    "    \n",
    "    return formatted_results"
   ]
  },
  {
   "cell_type": "code",
   "execution_count": 12,
   "id": "dc90a77a",
   "metadata": {},
   "outputs": [
    {
     "data": {
      "text/plain": [
       "{'answer': 'If you like driving, you might enjoy Farming Simulator 25, BeamNG.drive, or Assetto Corsa EVO for realistic experiences.',\n",
       " 'results': [{'url': 'https://www.youtube.com/watch?v=7xVxnZ5Wiio',\n",
       "   'title': 'TOP 25 Best Driving Games (NOT Racing) You MUST Play in 2025',\n",
       "   'content': \"one 14. Farming Simulator 25 — (PC, PS5, XSX/S) Farming Simulator 25 okay this game is actually an open world farming Sim first and foremost but as you can see driving the heavy farming Machinery is a big part of it which makes it great if you love driving especially if you want a driving game with lots of objectives and with hundreds of machines and heavyduty rigs from more than 100 brands you'll experience what it's like to operate this kind of equipment so if you're bored of standard driving [...] your lights at oncoming traffic prompts them to flash back and you'll even need to pull over for mandatory rest brakes every few hours however this one is a full-blown Sim so definitely don't get it if you're just looking for a casual Driving Experience you better gear up or you may 8. Pacific Drive — (PC, PS5) not survive the trip which would make my life easier so Pacific drive this game is as niche as it gets but man it's got something special if you've ever been into games like The Long [...] stranded trucks and you can play in four-player Co-op from start to finish some missions are clearly meant for teamwork so having your friends along will make things way more fun if you actually have any friends that 5. Retrowave — (PC) is retrowave if you grew up in the 80s which means either you're balding or on meds right now you might want to check out this game as you can see it's a game where you just drive endlessly while listening to Banger synthwave music not only that it also Nails\",\n",
       "   'score': 0.6304352,\n",
       "   'raw_content': None},\n",
       "  {'url': 'https://www.topgear.com/car-news/gaming/these-are-50-best-driving-games-all-time',\n",
       "   'title': 'These are the 50 best driving games of all time | Top Gear',\n",
       "   'content': 'There are racing games with pitch-perfect, individually recorded engine sounds, ones with brilliantly realistic renderings of the world’s best racetracks and ones with physics so life-like they’d have gotten professor Stephen Hawking hot under the collar. Then there are racers that are just plain fun – a sub-section of gaming that Super Mario Kart has reigned over for nearly 25 years. [...] 31. ## Need for Speed Hot Pursuit – Xbox 360, PlayStation 3, PC (2010) [...] floating F1 cars that fire rockets would be sweet.',\n",
       "   'score': 0.58465123,\n",
       "   'raw_content': None},\n",
       "  {'url': 'https://simracingcockpit.gg/sim-racing-games/',\n",
       "   'title': 'Sim Racing Games: the Best and Most Realistic Simulators',\n",
       "   'content': 'Using the game’s World Editor, players can also set up elaborate stunts to rival those created by their favourite online personalities, providing almost endless possibilities.\\n\\nIf you enjoy driving with no particular goal in mind, BeamNG is the game for you.\\n\\nRead our guide to BeamNG Drive here.\\n\\nSim Racing Games: the Best and Most Realistic Simulators\\n\\nRichard Baxter [...] Whether you enjoy a good smash and crash scenario in BeamNG.drive or a serious bit of competition in iRacing, these are the best games sim racing developers have on offer:\\n\\n## Assetto Corsa EVO\\n\\nCompatibility: PC (Steam Early Access)  \\nEarly Access RRP: £TBC  \\nRelease: Early Access launched January 16, 2025 | Full release expected autumn 2025 [...] In the latest update, Reiza Studios has added the Le Mans 24-hour race and it is arguably one of the finest Le Mans experiences that you’ll ever get from a sim racing game. Everything from dynamic weather changes to day and night transitions is quite phenomenal. And when you’re tired from all the driving, your AI counterparts can drive till the next stop.',\n",
       "   'score': 0.51413256,\n",
       "   'raw_content': None},\n",
       "  {'url': 'https://www.youtube.com/watch?v=UDNtAPrHK50',\n",
       "   'title': '10 Visually Stunning Driving and Racing Games You NEED to ...',\n",
       "   'content': \"personalize everything from paint colors to tuning their vehicles to Perfection furthermore taxi life offers the unique opportunity to own and manage a taxi company enabling players to acquire and operate renowned car brands within the game for those seeking a relaxed yet immersive driving simulation experience taxi life comes highly recommended next in line is grid Legends a personal favorite from this list serving as a worthy successor to 2019s grid this game embodies everything that Cod [...] meticulously crafted creating an immersive and authentic experience while its level of difficulty May intimidate some players overcoming its challenges brings immense satisfaction after each race boasting realistic physics and impressive Graphics dirt rally 2.0 is undoubtedly a must play for racing enthusiast everywhere next on our list is Need for Speed Unbound this game has garnered mixed reviews from Gamers worldwide but I still stand by recommending it due to its impressive Graphics [...] # 10 Visually Stunning Driving and Racing Games You NEED to Experience\\n## Krypto Mac\\n42700 subscribers\\n16996 likes\\n\\n### Description\\n1438576 views\\nPosted: 4 May 2024\\nForget about Forza Horizon 5 because there are still some driving simulation games out there that feature high graphics. This list will showcase the best realistic driving sim games you can play right now.\\n\\nWatch More:\\n\\nPlease don't forget to subscribe 😊\",\n",
       "   'score': 0.4858686,\n",
       "   'raw_content': None},\n",
       "  {'url': 'https://www.drivingskillsforlife.com/training/games',\n",
       "   'title': 'Driving Simulation Games - Ford Driving Skills for Life',\n",
       "   'content': \"continue to see ads selected through other criteria. [...] # Driving Simulation Games\\n\\nLearn to safely navigate roadways from the comfort of your own home.\\n\\n## Roundabout Simulation\\n\\nDon't let roundabouts throw you for a curve.  Learn how to safely navigate a roundabout.\\n\\nVideo tutorial \\nPlay\\n\\n## Off-road simulation\\n\\nLosing control of your car is a scary situation.  Learn to stay calm without oversteering in this simulation.\\n\\nVideo tutorial \\nPlay\\n\\n## Semi Truck Simulation: Stopping distance [...] These cookies may be set through our site by our advertising partners. They may be used by those companies to build a profile of your interests and show you relevant advertisements on other sites.    They may uniquely identify your browser and internet device. Please be aware that opting out of these cookies does not opt you out of being served all advertising. If you do not allow these cookies, the advertising you experience will be less targeted and may be less relevant to you, but you will\",\n",
       "   'score': 0.40867847,\n",
       "   'raw_content': None}],\n",
       " 'search_metadata': {'timestamp': '2025-10-14T12:45:16.736812',\n",
       "  'query': 'I like to drive. What games would I like?'}}"
      ]
     },
     "execution_count": 12,
     "metadata": {},
     "output_type": "execute_result"
    }
   ],
   "source": [
    "results = web_search(question)\n",
    "results"
   ]
  },
  {
   "cell_type": "markdown",
   "id": "df844b3b",
   "metadata": {},
   "source": [
    "### Agent"
   ]
  },
  {
   "cell_type": "code",
   "execution_count": 30,
   "id": "31c56281",
   "metadata": {},
   "outputs": [],
   "source": [
    "# TODO: Create your Agent abstraction using StateMachine\n",
    "# Equip with an appropriate model\n",
    "# Craft a good set of instructions \n",
    "# Plug all Tools you developed\n",
    "\n",
    "tools = [retrieve_game, evaluate_retrieval, web_search]\n",
    "\n",
    "instructions = f\"\"\"\n",
    "You are an expert on the video game industry.\n",
    "You can answer multistep questions by sequentially calling functions.\n",
    "You follow a pattern of of Thought and Action. \n",
    "Create a plan of execution: \n",
    "- Use Thought to describe your thoughts about the question you have been asked. \n",
    "- Use Action to specify one of the tools available to you. if you don't have a tool available, you can respond directly.\n",
    "When you think it's over, return the answer \n",
    "Never try to respond directly if the question needs a tool. \n",
    "But if you don't have a tool available, you can respond directly. \n",
    "The actions you have are the Tools: {tools}.\n",
    "\n",
    "\"\"\"\n",
    "\n",
    "agent = Agent(\n",
    "    model_name=\"gpt-4o-mini\",\n",
    "    tools=tools,\n",
    "    instructions=instructions\n",
    ")\n"
   ]
  },
  {
   "cell_type": "code",
   "execution_count": 31,
   "id": "0ec23893",
   "metadata": {},
   "outputs": [
    {
     "name": "stdout",
     "output_type": "stream",
     "text": [
      "When Pokémon Gold and Silver was released?\n",
      "[StateMachine] Starting: __entry__\n",
      "[StateMachine] Executing step: message_prep\n",
      "[StateMachine] Executing step: llm_processor\n",
      "[StateMachine] Executing step: tool_executor\n",
      "[StateMachine] Executing step: llm_processor\n",
      "[StateMachine] Executing step: tool_executor\n",
      "[StateMachine] Executing step: llm_processor\n",
      "[StateMachine] Terminating: __termination__\n",
      "[SystemMessage(role='system', content=\"\\nYou are an expert on the video game industry.\\nYou can answer multistep questions by sequentially calling functions.\\nYou follow a pattern of of Thought and Action. \\nCreate a plan of execution: \\n- Use Thought to describe your thoughts about the question you have been asked. \\n- Use Action to specify one of the tools available to you. if you don't have a tool available, you can respond directly.\\nWhen you think it's over, return the answer \\nNever try to respond directly if the question needs a tool. \\nBut if you don't have a tool available, you can respond directly. \\nThe actions you have are the Tools: [<Tool name=retrieve_game params=['query']>, <Tool name=evaluate_retrieval params=['question', 'retrieved_docs']>, <Tool name=web_search params=['query', 'search_depth']>].\\n\\n\"), UserMessage(role='user', content='When Pokémon Gold and Silver was released?'), AIMessage(role='assistant', content=None, tool_calls=[ChatCompletionMessageFunctionToolCall(id='call_Bl8pJdAzwAfO3husf529O8uS', function=Function(arguments='{\"query\":\"Pokémon Gold and Silver release date\"}', name='retrieve_game'), type='function')], token_usage=None), ToolMessage(role='tool', content='\"{\\'ids\\': [[\\'006\\', \\'007\\', \\'012\\']], \\'embeddings\\': None, \\'documents\\': [[\\'[Game Boy Color] Pok\\\\u00e9mon Gold and Silver (1999) - Second-generation Pok\\\\u00e9mon games introducing new regions, Pok\\\\u00e9mon, and gameplay mechanics.\\', \\'[Game Boy Advance] Pok\\\\u00e9mon Ruby and Sapphire (2002) - Third-generation Pok\\\\u00e9mon games set in the Hoenn region, featuring new Pok\\\\u00e9mon and double battles.\\', \\'[Nintendo Switch] Mario Kart 8 Deluxe (2017) - An enhanced version of Mario Kart 8, featuring new characters, tracks, and improved gameplay mechanics.\\']], \\'uris\\': None, \\'included\\': [\\'documents\\', \\'metadatas\\'], \\'data\\': None, \\'metadatas\\': [[{\\'Description\\': \\'Second-generation Pok\\\\u00e9mon games introducing new regions, Pok\\\\u00e9mon, and gameplay mechanics.\\', \\'Name\\': \\'Pok\\\\u00e9mon Gold and Silver\\', \\'Platform\\': \\'Game Boy Color\\', \\'Publisher\\': \\'Nintendo\\', \\'YearOfRelease\\': 1999, \\'Genre\\': \\'Role-playing\\'}, {\\'Genre\\': \\'Role-playing\\', \\'Description\\': \\'Third-generation Pok\\\\u00e9mon games set in the Hoenn region, featuring new Pok\\\\u00e9mon and double battles.\\', \\'Publisher\\': \\'Nintendo\\', \\'Name\\': \\'Pok\\\\u00e9mon Ruby and Sapphire\\', \\'Platform\\': \\'Game Boy Advance\\', \\'YearOfRelease\\': 2002}, {\\'YearOfRelease\\': 2017, \\'Genre\\': \\'Racing\\', \\'Publisher\\': \\'Nintendo\\', \\'Platform\\': \\'Nintendo Switch\\', \\'Name\\': \\'Mario Kart 8 Deluxe\\', \\'Description\\': \\'An enhanced version of Mario Kart 8, featuring new characters, tracks, and improved gameplay mechanics.\\'}]], \\'distances\\': None}\"', tool_call_id='call_Bl8pJdAzwAfO3husf529O8uS', name='retrieve_game'), AIMessage(role='assistant', content=None, tool_calls=[ChatCompletionMessageFunctionToolCall(id='call_x79jScxpIB1GeKMOgafwMOjr', function=Function(arguments='{\"question\":\"When Pokémon Gold and Silver was released?\",\"retrieved_docs\":[\"Pokémon Gold and Silver (1999) - Second-generation Pokémon games introducing new regions, Pokémon, and gameplay mechanics.\"]}', name='evaluate_retrieval'), type='function')], token_usage=None), ToolMessage(role='tool', content='\"{\\\\n    \\\\\"sufficient\\\\\": \\\\\"True\\\\\",\\\\n    \\\\\"reasoning\\\\\": \\\\\"The document provides a clear release year for Pok\\\\u00e9mon Gold and Silver, which is 1999. Since the query specifically asks for the release date, this information is sufficient to directly answer the question.\\\\\"\\\\n}\"', tool_call_id='call_x79jScxpIB1GeKMOgafwMOjr', name='evaluate_retrieval'), AIMessage(role='assistant', content='Pokémon Gold and Silver were released in 1999.', tool_calls=None, token_usage=None)]\n",
      "\n",
      "Which one was the first 3D platformer Mario game?\n",
      "[StateMachine] Starting: __entry__\n",
      "[StateMachine] Executing step: message_prep\n",
      "[StateMachine] Executing step: llm_processor\n",
      "[StateMachine] Executing step: tool_executor\n",
      "[StateMachine] Executing step: llm_processor\n",
      "[StateMachine] Executing step: tool_executor\n",
      "[StateMachine] Executing step: llm_processor\n",
      "[StateMachine] Terminating: __termination__\n",
      "[SystemMessage(role='system', content=\"\\nYou are an expert on the video game industry.\\nYou can answer multistep questions by sequentially calling functions.\\nYou follow a pattern of of Thought and Action. \\nCreate a plan of execution: \\n- Use Thought to describe your thoughts about the question you have been asked. \\n- Use Action to specify one of the tools available to you. if you don't have a tool available, you can respond directly.\\nWhen you think it's over, return the answer \\nNever try to respond directly if the question needs a tool. \\nBut if you don't have a tool available, you can respond directly. \\nThe actions you have are the Tools: [<Tool name=retrieve_game params=['query']>, <Tool name=evaluate_retrieval params=['question', 'retrieved_docs']>, <Tool name=web_search params=['query', 'search_depth']>].\\n\\n\"), UserMessage(role='user', content='When Pokémon Gold and Silver was released?'), AIMessage(role='assistant', content=None, tool_calls=[ChatCompletionMessageFunctionToolCall(id='call_Bl8pJdAzwAfO3husf529O8uS', function=Function(arguments='{\"query\":\"Pokémon Gold and Silver release date\"}', name='retrieve_game'), type='function')], token_usage=None), ToolMessage(role='tool', content='\"{\\'ids\\': [[\\'006\\', \\'007\\', \\'012\\']], \\'embeddings\\': None, \\'documents\\': [[\\'[Game Boy Color] Pok\\\\u00e9mon Gold and Silver (1999) - Second-generation Pok\\\\u00e9mon games introducing new regions, Pok\\\\u00e9mon, and gameplay mechanics.\\', \\'[Game Boy Advance] Pok\\\\u00e9mon Ruby and Sapphire (2002) - Third-generation Pok\\\\u00e9mon games set in the Hoenn region, featuring new Pok\\\\u00e9mon and double battles.\\', \\'[Nintendo Switch] Mario Kart 8 Deluxe (2017) - An enhanced version of Mario Kart 8, featuring new characters, tracks, and improved gameplay mechanics.\\']], \\'uris\\': None, \\'included\\': [\\'documents\\', \\'metadatas\\'], \\'data\\': None, \\'metadatas\\': [[{\\'Description\\': \\'Second-generation Pok\\\\u00e9mon games introducing new regions, Pok\\\\u00e9mon, and gameplay mechanics.\\', \\'Name\\': \\'Pok\\\\u00e9mon Gold and Silver\\', \\'Platform\\': \\'Game Boy Color\\', \\'Publisher\\': \\'Nintendo\\', \\'YearOfRelease\\': 1999, \\'Genre\\': \\'Role-playing\\'}, {\\'Genre\\': \\'Role-playing\\', \\'Description\\': \\'Third-generation Pok\\\\u00e9mon games set in the Hoenn region, featuring new Pok\\\\u00e9mon and double battles.\\', \\'Publisher\\': \\'Nintendo\\', \\'Name\\': \\'Pok\\\\u00e9mon Ruby and Sapphire\\', \\'Platform\\': \\'Game Boy Advance\\', \\'YearOfRelease\\': 2002}, {\\'YearOfRelease\\': 2017, \\'Genre\\': \\'Racing\\', \\'Publisher\\': \\'Nintendo\\', \\'Platform\\': \\'Nintendo Switch\\', \\'Name\\': \\'Mario Kart 8 Deluxe\\', \\'Description\\': \\'An enhanced version of Mario Kart 8, featuring new characters, tracks, and improved gameplay mechanics.\\'}]], \\'distances\\': None}\"', tool_call_id='call_Bl8pJdAzwAfO3husf529O8uS', name='retrieve_game'), AIMessage(role='assistant', content=None, tool_calls=[ChatCompletionMessageFunctionToolCall(id='call_x79jScxpIB1GeKMOgafwMOjr', function=Function(arguments='{\"question\":\"When Pokémon Gold and Silver was released?\",\"retrieved_docs\":[\"Pokémon Gold and Silver (1999) - Second-generation Pokémon games introducing new regions, Pokémon, and gameplay mechanics.\"]}', name='evaluate_retrieval'), type='function')], token_usage=None), ToolMessage(role='tool', content='\"{\\\\n    \\\\\"sufficient\\\\\": \\\\\"True\\\\\",\\\\n    \\\\\"reasoning\\\\\": \\\\\"The document provides a clear release year for Pok\\\\u00e9mon Gold and Silver, which is 1999. Since the query specifically asks for the release date, this information is sufficient to directly answer the question.\\\\\"\\\\n}\"', tool_call_id='call_x79jScxpIB1GeKMOgafwMOjr', name='evaluate_retrieval'), AIMessage(role='assistant', content='Pokémon Gold and Silver were released in 1999.', tool_calls=None, token_usage=None), UserMessage(role='user', content='Which one was the first 3D platformer Mario game?'), AIMessage(role='assistant', content=None, tool_calls=[ChatCompletionMessageFunctionToolCall(id='call_7Act3LnX8fWqxbmkQmkFkvPa', function=Function(arguments='{\"query\":\"first 3D platformer Mario game\"}', name='retrieve_game'), type='function')], token_usage=None), ToolMessage(role='tool', content='\"{\\'ids\\': [[\\'009\\', \\'008\\', \\'012\\']], \\'embeddings\\': None, \\'documents\\': [[\\\\\"[Nintendo 64] Super Mario 64 (1996) - A groundbreaking 3D platformer that set new standards for the genre, featuring Mario\\'s quest to rescue Princess Peach.\\\\\", \\'[Super Nintendo Entertainment System (SNES)] Super Mario World (1990) - A classic platformer where Mario embarks on a quest to save Princess Toadstool and Dinosaur Land from Bowser.\\', \\'[Nintendo Switch] Mario Kart 8 Deluxe (2017) - An enhanced version of Mario Kart 8, featuring new characters, tracks, and improved gameplay mechanics.\\']], \\'uris\\': None, \\'included\\': [\\'documents\\', \\'metadatas\\'], \\'data\\': None, \\'metadatas\\': [[{\\'Genre\\': \\'Platformer\\', \\'YearOfRelease\\': 1996, \\'Platform\\': \\'Nintendo 64\\', \\'Description\\': \\\\\"A groundbreaking 3D platformer that set new standards for the genre, featuring Mario\\'s quest to rescue Princess Peach.\\\\\", \\'Name\\': \\'Super Mario 64\\', \\'Publisher\\': \\'Nintendo\\'}, {\\'Platform\\': \\'Super Nintendo Entertainment System (SNES)\\', \\'Publisher\\': \\'Nintendo\\', \\'Name\\': \\'Super Mario World\\', \\'Description\\': \\'A classic platformer where Mario embarks on a quest to save Princess Toadstool and Dinosaur Land from Bowser.\\', \\'YearOfRelease\\': 1990, \\'Genre\\': \\'Platformer\\'}, {\\'Platform\\': \\'Nintendo Switch\\', \\'Description\\': \\'An enhanced version of Mario Kart 8, featuring new characters, tracks, and improved gameplay mechanics.\\', \\'Name\\': \\'Mario Kart 8 Deluxe\\', \\'Publisher\\': \\'Nintendo\\', \\'Genre\\': \\'Racing\\', \\'YearOfRelease\\': 2017}]], \\'distances\\': None}\"', tool_call_id='call_7Act3LnX8fWqxbmkQmkFkvPa', name='retrieve_game'), AIMessage(role='assistant', content=None, tool_calls=[ChatCompletionMessageFunctionToolCall(id='call_doSXLakOuoeNePd4qDrpKKU8', function=Function(arguments='{\"question\":\"Which one was the first 3D platformer Mario game?\",\"retrieved_docs\":[\"Super Mario 64 (1996) - A groundbreaking 3D platformer that set new standards for the genre, featuring Mario\\'s quest to rescue Princess Peach.\"]}', name='evaluate_retrieval'), type='function')], token_usage=None), ToolMessage(role='tool', content='\"{\\\\n    \\\\\"sufficient\\\\\": \\\\\"True\\\\\",\\\\n    \\\\\"reasoning\\\\\": \\\\\"The document clearly states that \\'Super Mario 64\\' is a groundbreaking 3D platformer and mentions its release year of 1996. Since it is widely recognized as the first 3D platformer in the Mario franchise, the information provided is sufficient to answer the query about which was the first 3D platformer Mario game.\\\\\"\\\\n}\"', tool_call_id='call_doSXLakOuoeNePd4qDrpKKU8', name='evaluate_retrieval'), AIMessage(role='assistant', content='The first 3D platformer Mario game is Super Mario 64, which was released in 1996.', tool_calls=None, token_usage=None)]\n",
      "\n",
      "Was Mortal Kombat X realeased for Playstation 5?\n",
      "[StateMachine] Starting: __entry__\n",
      "[StateMachine] Executing step: message_prep\n",
      "[StateMachine] Executing step: llm_processor\n",
      "[StateMachine] Executing step: tool_executor\n",
      "[StateMachine] Executing step: llm_processor\n",
      "[StateMachine] Executing step: tool_executor\n",
      "[StateMachine] Executing step: llm_processor\n",
      "[StateMachine] Terminating: __termination__\n",
      "[SystemMessage(role='system', content=\"\\nYou are an expert on the video game industry.\\nYou can answer multistep questions by sequentially calling functions.\\nYou follow a pattern of of Thought and Action. \\nCreate a plan of execution: \\n- Use Thought to describe your thoughts about the question you have been asked. \\n- Use Action to specify one of the tools available to you. if you don't have a tool available, you can respond directly.\\nWhen you think it's over, return the answer \\nNever try to respond directly if the question needs a tool. \\nBut if you don't have a tool available, you can respond directly. \\nThe actions you have are the Tools: [<Tool name=retrieve_game params=['query']>, <Tool name=evaluate_retrieval params=['question', 'retrieved_docs']>, <Tool name=web_search params=['query', 'search_depth']>].\\n\\n\"), UserMessage(role='user', content='When Pokémon Gold and Silver was released?'), AIMessage(role='assistant', content=None, tool_calls=[ChatCompletionMessageFunctionToolCall(id='call_Bl8pJdAzwAfO3husf529O8uS', function=Function(arguments='{\"query\":\"Pokémon Gold and Silver release date\"}', name='retrieve_game'), type='function')], token_usage=None), ToolMessage(role='tool', content='\"{\\'ids\\': [[\\'006\\', \\'007\\', \\'012\\']], \\'embeddings\\': None, \\'documents\\': [[\\'[Game Boy Color] Pok\\\\u00e9mon Gold and Silver (1999) - Second-generation Pok\\\\u00e9mon games introducing new regions, Pok\\\\u00e9mon, and gameplay mechanics.\\', \\'[Game Boy Advance] Pok\\\\u00e9mon Ruby and Sapphire (2002) - Third-generation Pok\\\\u00e9mon games set in the Hoenn region, featuring new Pok\\\\u00e9mon and double battles.\\', \\'[Nintendo Switch] Mario Kart 8 Deluxe (2017) - An enhanced version of Mario Kart 8, featuring new characters, tracks, and improved gameplay mechanics.\\']], \\'uris\\': None, \\'included\\': [\\'documents\\', \\'metadatas\\'], \\'data\\': None, \\'metadatas\\': [[{\\'Description\\': \\'Second-generation Pok\\\\u00e9mon games introducing new regions, Pok\\\\u00e9mon, and gameplay mechanics.\\', \\'Name\\': \\'Pok\\\\u00e9mon Gold and Silver\\', \\'Platform\\': \\'Game Boy Color\\', \\'Publisher\\': \\'Nintendo\\', \\'YearOfRelease\\': 1999, \\'Genre\\': \\'Role-playing\\'}, {\\'Genre\\': \\'Role-playing\\', \\'Description\\': \\'Third-generation Pok\\\\u00e9mon games set in the Hoenn region, featuring new Pok\\\\u00e9mon and double battles.\\', \\'Publisher\\': \\'Nintendo\\', \\'Name\\': \\'Pok\\\\u00e9mon Ruby and Sapphire\\', \\'Platform\\': \\'Game Boy Advance\\', \\'YearOfRelease\\': 2002}, {\\'YearOfRelease\\': 2017, \\'Genre\\': \\'Racing\\', \\'Publisher\\': \\'Nintendo\\', \\'Platform\\': \\'Nintendo Switch\\', \\'Name\\': \\'Mario Kart 8 Deluxe\\', \\'Description\\': \\'An enhanced version of Mario Kart 8, featuring new characters, tracks, and improved gameplay mechanics.\\'}]], \\'distances\\': None}\"', tool_call_id='call_Bl8pJdAzwAfO3husf529O8uS', name='retrieve_game'), AIMessage(role='assistant', content=None, tool_calls=[ChatCompletionMessageFunctionToolCall(id='call_x79jScxpIB1GeKMOgafwMOjr', function=Function(arguments='{\"question\":\"When Pokémon Gold and Silver was released?\",\"retrieved_docs\":[\"Pokémon Gold and Silver (1999) - Second-generation Pokémon games introducing new regions, Pokémon, and gameplay mechanics.\"]}', name='evaluate_retrieval'), type='function')], token_usage=None), ToolMessage(role='tool', content='\"{\\\\n    \\\\\"sufficient\\\\\": \\\\\"True\\\\\",\\\\n    \\\\\"reasoning\\\\\": \\\\\"The document provides a clear release year for Pok\\\\u00e9mon Gold and Silver, which is 1999. Since the query specifically asks for the release date, this information is sufficient to directly answer the question.\\\\\"\\\\n}\"', tool_call_id='call_x79jScxpIB1GeKMOgafwMOjr', name='evaluate_retrieval'), AIMessage(role='assistant', content='Pokémon Gold and Silver were released in 1999.', tool_calls=None, token_usage=None), UserMessage(role='user', content='Which one was the first 3D platformer Mario game?'), AIMessage(role='assistant', content=None, tool_calls=[ChatCompletionMessageFunctionToolCall(id='call_7Act3LnX8fWqxbmkQmkFkvPa', function=Function(arguments='{\"query\":\"first 3D platformer Mario game\"}', name='retrieve_game'), type='function')], token_usage=None), ToolMessage(role='tool', content='\"{\\'ids\\': [[\\'009\\', \\'008\\', \\'012\\']], \\'embeddings\\': None, \\'documents\\': [[\\\\\"[Nintendo 64] Super Mario 64 (1996) - A groundbreaking 3D platformer that set new standards for the genre, featuring Mario\\'s quest to rescue Princess Peach.\\\\\", \\'[Super Nintendo Entertainment System (SNES)] Super Mario World (1990) - A classic platformer where Mario embarks on a quest to save Princess Toadstool and Dinosaur Land from Bowser.\\', \\'[Nintendo Switch] Mario Kart 8 Deluxe (2017) - An enhanced version of Mario Kart 8, featuring new characters, tracks, and improved gameplay mechanics.\\']], \\'uris\\': None, \\'included\\': [\\'documents\\', \\'metadatas\\'], \\'data\\': None, \\'metadatas\\': [[{\\'Genre\\': \\'Platformer\\', \\'YearOfRelease\\': 1996, \\'Platform\\': \\'Nintendo 64\\', \\'Description\\': \\\\\"A groundbreaking 3D platformer that set new standards for the genre, featuring Mario\\'s quest to rescue Princess Peach.\\\\\", \\'Name\\': \\'Super Mario 64\\', \\'Publisher\\': \\'Nintendo\\'}, {\\'Platform\\': \\'Super Nintendo Entertainment System (SNES)\\', \\'Publisher\\': \\'Nintendo\\', \\'Name\\': \\'Super Mario World\\', \\'Description\\': \\'A classic platformer where Mario embarks on a quest to save Princess Toadstool and Dinosaur Land from Bowser.\\', \\'YearOfRelease\\': 1990, \\'Genre\\': \\'Platformer\\'}, {\\'Platform\\': \\'Nintendo Switch\\', \\'Description\\': \\'An enhanced version of Mario Kart 8, featuring new characters, tracks, and improved gameplay mechanics.\\', \\'Name\\': \\'Mario Kart 8 Deluxe\\', \\'Publisher\\': \\'Nintendo\\', \\'Genre\\': \\'Racing\\', \\'YearOfRelease\\': 2017}]], \\'distances\\': None}\"', tool_call_id='call_7Act3LnX8fWqxbmkQmkFkvPa', name='retrieve_game'), AIMessage(role='assistant', content=None, tool_calls=[ChatCompletionMessageFunctionToolCall(id='call_doSXLakOuoeNePd4qDrpKKU8', function=Function(arguments='{\"question\":\"Which one was the first 3D platformer Mario game?\",\"retrieved_docs\":[\"Super Mario 64 (1996) - A groundbreaking 3D platformer that set new standards for the genre, featuring Mario\\'s quest to rescue Princess Peach.\"]}', name='evaluate_retrieval'), type='function')], token_usage=None), ToolMessage(role='tool', content='\"{\\\\n    \\\\\"sufficient\\\\\": \\\\\"True\\\\\",\\\\n    \\\\\"reasoning\\\\\": \\\\\"The document clearly states that \\'Super Mario 64\\' is a groundbreaking 3D platformer and mentions its release year of 1996. Since it is widely recognized as the first 3D platformer in the Mario franchise, the information provided is sufficient to answer the query about which was the first 3D platformer Mario game.\\\\\"\\\\n}\"', tool_call_id='call_doSXLakOuoeNePd4qDrpKKU8', name='evaluate_retrieval'), AIMessage(role='assistant', content='The first 3D platformer Mario game is Super Mario 64, which was released in 1996.', tool_calls=None, token_usage=None), UserMessage(role='user', content='Was Mortal Kombat X realeased for Playstation 5?'), AIMessage(role='assistant', content=None, tool_calls=[ChatCompletionMessageFunctionToolCall(id='call_b915r4mjZPp9tzwGKuJL5Qw1', function=Function(arguments='{\"query\":\"Mortal Kombat X release for Playstation 5\"}', name='retrieve_game'), type='function')], token_usage=None), ToolMessage(role='tool', content='\"{\\'ids\\': [[\\'005\\', \\'015\\', \\'004\\']], \\'embeddings\\': None, \\'documents\\': [[\\\\\"[PlayStation 5] Marvel\\'s Spider-Man 2 (2023) - The sequel to the acclaimed Spider-Man game, featuring both Peter Parker and Miles Morales as playable characters.\\\\\", \\\\\"[Xbox Series X|S] Halo Infinite (2021) - The latest installment in the Halo franchise, featuring Master Chief\\'s return in a new open-world setting.\\\\\", \\\\\"[PlayStation 4] Marvel\\'s Spider-Man (2018) - An open-world superhero game that lets players swing through New York City as Spider-Man, battling iconic villains.\\\\\"]], \\'uris\\': None, \\'included\\': [\\'documents\\', \\'metadatas\\'], \\'data\\': None, \\'metadatas\\': [[{\\'Platform\\': \\'PlayStation 5\\', \\'Name\\': \\\\\"Marvel\\'s Spider-Man 2\\\\\", \\'YearOfRelease\\': 2023, \\'Publisher\\': \\'Sony Interactive Entertainment\\', \\'Description\\': \\'The sequel to the acclaimed Spider-Man game, featuring both Peter Parker and Miles Morales as playable characters.\\', \\'Genre\\': \\'Action-adventure\\'}, {\\'Name\\': \\'Halo Infinite\\', \\'Publisher\\': \\'Xbox Game Studios\\', \\'YearOfRelease\\': 2021, \\'Genre\\': \\'First-person shooter\\', \\'Description\\': \\\\\"The latest installment in the Halo franchise, featuring Master Chief\\'s return in a new open-world setting.\\\\\", \\'Platform\\': \\'Xbox Series X|S\\'}, {\\'Platform\\': \\'PlayStation 4\\', \\'Genre\\': \\'Action-adventure\\', \\'YearOfRelease\\': 2018, \\'Name\\': \\\\\"Marvel\\'s Spider-Man\\\\\", \\'Description\\': \\'An open-world superhero game that lets players swing through New York City as Spider-Man, battling iconic villains.\\', \\'Publisher\\': \\'Sony Interactive Entertainment\\'}]], \\'distances\\': None}\"', tool_call_id='call_b915r4mjZPp9tzwGKuJL5Qw1', name='retrieve_game'), AIMessage(role='assistant', content=None, tool_calls=[ChatCompletionMessageFunctionToolCall(id='call_LgOtAuEEysFALMVvYCACLslC', function=Function(arguments='{\"query\":\"Mortal Kombat X PlayStation 5 release\",\"search_depth\":\"basic\"}', name='web_search'), type='function')], token_usage=None), ToolMessage(role='tool', content='\"{\\'answer\\': \\'Mortal Kombat X is not natively available on PlayStation 5. It was originally released for seventh-generation consoles in 2015. Players may need to update their PS5 for compatibility.\\', \\'results\\': [{\\'url\\': \\'https://www.playstation.com/en-us/games/mortal-kombat-x_msm_moved/\\', \\'title\\': \\'Mortal Kombat X - PlayStation\\', \\'content\\': \\\\\"* Supports up to 10 online players with PS Plus Blood and Gore, Game Experience May Change During Online Play, Intense Violence, Strong Language ## Rating and Reviews Global player ratings Report;) ### Report Review ### Report Review Report Review Your report will be reviewed by PlayStation Safety, and action will be taken if appropriate. Only owners of this game can rate it. Rate;) Your Rating ### No ratings and reviews. Be the first to rate! Be the first to add a rating and review ### Your review Post Review!;) Delete review? \\'MORTAL KOMBAT X software \\\\u00a9 2015 Warner Bros. All rights reserved.WB GAMES LOGO, WB SHIELD, NETHERREALM LOGO, MORTAL KOMBAT, THE DRAGON LOGO, and all related characters and elements are trademarks of and \\\\u00a9 Warner Bros.\\\\\", \\'score\\': 0.9859, \\'raw_content\\': None}, {\\'url\\': \\'https://en.wikipedia.org/wiki/Mortal_Kombat_X\\', \\'title\\': \\'Mortal Kombat X - Wikipedia\\', \\'content\\': \\'***Mortal Kombat X*** is a 2015 fighting game developed by NetherRealm Studios and published by Warner Bros. By July 2015, due to heavy criticism for the porting issues that plagued the PC release of the game, almost all references to *Mortal Kombat X* had been removed from High Voltage Software\\\\\\\\\\'s Facebook page. With the 1.11 update version of the mobile game released on December 6, 2016, Freddy Krueger who appeared as a DLC character in *MK9 \\\\\"Mortal Kombat (2011 video game)\\\\\")* was added as a mobile-exclusive character using his signature moves and X-Ray attack from MK9.\\', \\'score\\': 0.98225, \\'raw_content\\': None}, {\\'url\\': \\'https://www.reddit.com/r/MortalKombat/comments/1lldi8d/mortal_kombat_xs_seventhgen_console_release_was/\\', \\'title\\': \\\\\"Mortal Kombat X\\'s seventh-gen console release was cancelled ...\\\\\", \\'content\\': \\\\\"Mortal Kombat X\\'s seventh-gen console release was cancelled because it was not capable of running on those consoles, but MK11 and MK1 are on Switch, which are\\\\\", \\'score\\': 0.97969, \\'raw_content\\': None}, {\\'url\\': \\'https://store.playstation.com/en-us/product/UP1018-CUSA00967_00-MORTALKOMBATX000\\', \\'title\\': \\'Mortal Kombat X - PlayStation Store\\', \\'content\\': \\\\\"# Mortal Kombat X * PS Plus required for online play * Supports up to 10 online players with PS Plus * PS Plus required for online play * Supports up to 10 online players with PS Plus Mortal Kombat X ### Mortal Kombat X * Mortal Kombat X Brazil Pack ## Ratings and reviews ### Global player ratings 122857 ratings ### Mortal Kombat X To play this game on PS5, your system may need to be updated to the latest system software. \\'MORTAL KOMBAT X software \\\\u00a9 2015 Warner Bros. All rights reserved.WB GAMES LOGO, WB SHIELD, NETHERREALM LOGO, MORTAL KOMBAT, THE DRAGON LOGO, and all related characters and elements are trademarks of and \\\\u00a9 Warner Bros.\\\\\", \\'score\\': 0.97455, \\'raw_content\\': None}, {\\'url\\': \\'https://mortalkombat.fandom.com/wiki/Mortal_Kombat_X\\', \\'title\\': \\'Mortal Kombat X\\', \\'content\\': \\'The current-generation console versions were released on April 14, 2015. Serving as both a follow-up and sequel to Mortal Kombat (2011), it follows the events\\', \\'score\\': 0.97097, \\'raw_content\\': None}], \\'search_metadata\\': {\\'timestamp\\': \\'2025-10-15T11:37:31.839940\\', \\'query\\': \\'Mortal Kombat X PlayStation 5 release\\'}}\"', tool_call_id='call_LgOtAuEEysFALMVvYCACLslC', name='web_search'), AIMessage(role='assistant', content='Mortal Kombat X was not natively released for PlayStation 5. It was originally released for seventh-generation consoles in 2015. However, it may be playable on the PS5 with system updates for compatibility.', tool_calls=None, token_usage=None)]\n",
      "\n"
     ]
    }
   ],
   "source": [
    "# TODO: Invoke your agent\n",
    "queries = [\n",
    "    \"When Pokémon Gold and Silver was released?\",\n",
    "    \"Which one was the first 3D platformer Mario game?\",\n",
    "    \"Was Mortal Kombat X realeased for Playstation 5?\"\n",
    "]\n",
    "\n",
    "for q in queries:\n",
    "    print(q)\n",
    "    run_object = agent.invoke(query=q)\n",
    "    print(run_object.get_final_state()[\"messages\"])\n",
    "    print()"
   ]
  },
  {
   "cell_type": "markdown",
   "id": "f0a55081",
   "metadata": {},
   "source": [
    "### (Optional) Advanced"
   ]
  },
  {
   "cell_type": "code",
   "execution_count": null,
   "id": "eb83fbb1",
   "metadata": {},
   "outputs": [],
   "source": [
    "# TODO: Update your agent with long-term memory\n",
    "# TODO: Convert the agent to be a state machine, with the tools being pre-defined nodes"
   ]
  }
 ],
 "metadata": {
  "kernelspec": {
   "display_name": ".venv",
   "language": "python",
   "name": "python3"
  },
  "language_info": {
   "codemirror_mode": {
    "name": "ipython",
    "version": 3
   },
   "file_extension": ".py",
   "mimetype": "text/x-python",
   "name": "python",
   "nbconvert_exporter": "python",
   "pygments_lexer": "ipython3",
   "version": "3.11.7"
  }
 },
 "nbformat": 4,
 "nbformat_minor": 5
}
