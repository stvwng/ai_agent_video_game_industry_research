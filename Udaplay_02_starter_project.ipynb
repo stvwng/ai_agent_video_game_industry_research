{
 "cells": [
  {
   "cell_type": "markdown",
   "id": "6fdd0bcb",
   "metadata": {},
   "source": [
    "# [STARTER] Udaplay Project"
   ]
  },
  {
   "cell_type": "markdown",
   "id": "9325b035",
   "metadata": {},
   "source": [
    "## Part 02 - Agent\n",
    "\n",
    "In this part of the project, you'll use your VectorDB to be part of your Agent as a tool.\n",
    "\n",
    "You're building UdaPlay, an AI Research Agent for the video game industry. The agent will:\n",
    "1. Answer questions using internal knowledge (RAG)\n",
    "2. Search the web when needed\n",
    "3. Maintain conversation state\n",
    "4. Return structured outputs\n",
    "5. Store useful information for future use"
   ]
  },
  {
   "cell_type": "markdown",
   "id": "2b42de90",
   "metadata": {},
   "source": [
    "### Setup"
   ]
  },
  {
   "cell_type": "code",
   "execution_count": 1,
   "id": "fd10c06e",
   "metadata": {},
   "outputs": [],
   "source": [
    "import chromadb\n",
    "from chromadb.utils import embedding_functions\n",
    "from datetime import datetime\n",
    "from openai import OpenAI\n",
    "import os\n",
    "from tavily import TavilyClient\n",
    "from typing import Dict\n",
    "\n",
    "from lib.agents import Agent\n",
    "from lib.tooling import tool"
   ]
  },
  {
   "cell_type": "code",
   "execution_count": 2,
   "id": "87e465d4",
   "metadata": {},
   "outputs": [],
   "source": [
    "OPENAI_API_KEY = os.getenv(\"OPENAI_API_KEY\")\n",
    "TAVILY_API_KEY = os.getenv(\"TAVILY_API_KEY\")"
   ]
  },
  {
   "cell_type": "markdown",
   "id": "27de4729",
   "metadata": {},
   "source": [
    "### Tools"
   ]
  },
  {
   "cell_type": "markdown",
   "id": "46ab2dac",
   "metadata": {},
   "source": [
    "Build at least 3 tools:\n",
    "- retrieve_game: To search the vector DB\n",
    "- evaluate_retrieval: To assess the retrieval performance\n",
    "- game_web_search: If no good, search the web\n"
   ]
  },
  {
   "cell_type": "markdown",
   "id": "ce4f14cd",
   "metadata": {},
   "source": [
    "#### Retrieve Game Tool"
   ]
  },
  {
   "cell_type": "code",
   "execution_count": 3,
   "id": "b25c36dd",
   "metadata": {},
   "outputs": [],
   "source": [
    "# TODO: Create retrieve_game tool\n",
    "# It should use chroma client and collection you created\n",
    "\n",
    "embedding_fn = embedding_functions.OpenAIEmbeddingFunction(api_key=OPENAI_API_KEY)\n",
    "chroma_client = chromadb.PersistentClient(path=\"chromadb\")\n",
    "collection = chroma_client.get_collection(name=\"udaplay\", embedding_function=embedding_fn)\n",
    "# Need to pass embedding function so dimensions match\n",
    "# The collection was created with an OpenAI embedding model, which has a dimension size of 1536.\n",
    "# However, it appears that Chroma uses an embedding model with a dimension size of 384 to embed the query.\n",
    "# So, if the embedding_function is not passed to get_collection(),  and then\n",
    "# the query() method is called on the collection, this will result in:\n",
    "# chromadb.errors.InvalidArgumentError: Collection expecting embedding with dimension of 1536, got 384\n",
    "# Essentially, the dimensions don't match, and passing embedding_function to get_collections() fixes this.\n",
    "\n",
    "# Tool Docstring:\n",
    "#    Semantic search: Finds most results in the vector DB\n",
    "#    args:\n",
    "#    - query: a question about game industry. \n",
    "#\n",
    "#    You'll receive results as list. Each element contains:\n",
    "#    - Platform: like Game Boy, Playstation 5, Xbox 360...)\n",
    "#    - Name: Name of the Game\n",
    "#    - YearOfRelease: Year when that game was released for that platform\n",
    "#    - Description: Additional details about the game\n",
    "\n",
    "@tool\n",
    "def retrieve_game(query: str):\n",
    "    results = collection.query(\n",
    "    query_texts=[query],\n",
    "    n_results=3,\n",
    "    include=['documents', 'metadatas']\n",
    "    )\n",
    "    return results"
   ]
  },
  {
   "cell_type": "code",
   "execution_count": 4,
   "id": "ec961703",
   "metadata": {},
   "outputs": [],
   "source": [
    "# question1 = \"I like to drive. What games would I like?\"\n",
    "# question2 = \"What is the most recent version of Tetris, and when did it come out?\""
   ]
  },
  {
   "cell_type": "code",
   "execution_count": 5,
   "id": "22460881",
   "metadata": {},
   "outputs": [],
   "source": [
    "# collection.peek() # confirm collection has been successfully retrieved\n",
    "# answer = retrieve_game(question1)\n",
    "# answer"
   ]
  },
  {
   "cell_type": "markdown",
   "id": "910dc945",
   "metadata": {},
   "source": [
    "#### Evaluate Retrieval Tool"
   ]
  },
  {
   "cell_type": "code",
   "execution_count": 6,
   "id": "0d9d014b",
   "metadata": {},
   "outputs": [],
   "source": [
    "# TODO: Create evaluate_retrieval tool\n",
    "# You might use an LLM as judge in this tool to evaluate the performance\n",
    "# You need to prompt that LLM with something like:\n",
    "# \"Your task is to evaluate if the documents are enough to respond the query. \"\n",
    "# \"Give a detailed explanation, so it's possible to take an action to accept it or not.\"\n",
    "# Use EvaluationReport to parse the result\n",
    "# Tool Docstring:\n",
    "#    Based on the user's question and on the list of retrieved documents, \n",
    "#    it will analyze the usability of the documents to respond to that question. \n",
    "#    args: \n",
    "#    - question: original question from user\n",
    "#    - retrieved_docs: retrieved documents most similar to the user query in the Vector Database\n",
    "#    The result includes:\n",
    "#    - useful: whether the documents are useful to answer the question\n",
    "#    - description: description about the evaluation result\n",
    "\n",
    "\n",
    "\n",
    "evaluation_prompt = \"\"\"\n",
    "    Your task is to evaluate if the documents are enough to respond to the query. \n",
    "    \n",
    "    OUTPUT FORMAT:\n",
    "    \n",
    "    Your answer should consist of two parts:\n",
    "    1. A boolean value for whether the documents are sufficient to respond to the query.\n",
    "    2. A detailed explanation of your reasoning\n",
    "    \n",
    "    Provide your response as a JSON object in the following format:\n",
    "    \n",
    "    {\n",
    "        \"sufficient\": \"True\" | \"False\",\n",
    "        \"reasoning\": \" ... \"\n",
    "    }\n",
    "    \"\"\"\n",
    "\n",
    "client = OpenAI()\n",
    "\n",
    "@tool\n",
    "def evaluate_retrieval(question: str, retrieved_docs: list[str]):\n",
    "    \n",
    "    input = f\"\"\"\n",
    "\n",
    "    QUERY: {question}\n",
    "    \n",
    "    DOCUMENTS: {retrieved_docs}\n",
    "    \"\"\"\n",
    "\n",
    "    response = client.responses.create(\n",
    "        instructions=evaluation_prompt,\n",
    "        model=\"gpt-4o-mini\",\n",
    "        input=input\n",
    "    )\n",
    "    \n",
    "    return response.output_text"
   ]
  },
  {
   "cell_type": "code",
   "execution_count": 7,
   "id": "fc71845e",
   "metadata": {},
   "outputs": [],
   "source": [
    "# import json\n",
    "# print(evaluate_retrieval(question1, answer['documents']))\n",
    "# print()\n",
    "\n",
    "# eval = evaluate_retrieval(question2, answer['documents'])\n",
    "# eval_dict = json.loads(eval)\n",
    "# print(eval_dict)\n",
    "# print(eval_dict[\"reasoning\"])"
   ]
  },
  {
   "cell_type": "markdown",
   "id": "c7935a26",
   "metadata": {},
   "source": [
    "#### Game Web Search Tool"
   ]
  },
  {
   "cell_type": "code",
   "execution_count": 8,
   "id": "2ad698aa",
   "metadata": {},
   "outputs": [],
   "source": [
    "# TODO: Create game_web_search tool\n",
    "# Please use Tavily client to search the web\n",
    "# Tool Docstring:\n",
    "#    Semantic search: Finds most results in the vector DB\n",
    "#    args:\n",
    "#    - question: a question about game industry. \n",
    "\n",
    "@tool\n",
    "def web_search(query: str, search_depth: str = \"advanced\") -> Dict:\n",
    "    \"\"\"\n",
    "    Search the web using Tavily API\n",
    "    args:\n",
    "        query (str): Search query\n",
    "        search_depth (str): Type of search - 'basic' or 'advanced' (default: advanced)\n",
    "    \"\"\"\n",
    "    client = TavilyClient(api_key=TAVILY_API_KEY)\n",
    "    \n",
    "    # Perform the search\n",
    "    search_result = client.search(\n",
    "        query=query,\n",
    "        search_depth=search_depth,\n",
    "        include_answer=True,\n",
    "        include_raw_content=False,\n",
    "        include_images=False\n",
    "    )\n",
    "    \n",
    "    # Format the results\n",
    "    formatted_results = {\n",
    "        \"answer\": search_result.get(\"answer\", \"\"),\n",
    "        \"results\": search_result.get(\"results\", []),\n",
    "        \"search_metadata\": {\n",
    "            \"timestamp\": datetime.now().isoformat(),\n",
    "            \"query\": query\n",
    "        }\n",
    "    }\n",
    "    \n",
    "    return formatted_results"
   ]
  },
  {
   "cell_type": "code",
   "execution_count": 9,
   "id": "dc90a77a",
   "metadata": {},
   "outputs": [],
   "source": [
    "# results = web_search(question1)\n",
    "# results"
   ]
  },
  {
   "cell_type": "markdown",
   "id": "df844b3b",
   "metadata": {},
   "source": [
    "### Agent"
   ]
  },
  {
   "cell_type": "code",
   "execution_count": 10,
   "id": "31c56281",
   "metadata": {},
   "outputs": [],
   "source": [
    "# TODO: Create your Agent abstraction using StateMachine\n",
    "# Equip with an appropriate model\n",
    "# Craft a good set of instructions \n",
    "# Plug all Tools you developed\n",
    "\n",
    "tools = [retrieve_game, evaluate_retrieval, web_search]\n",
    "\n",
    "instructions = f\"\"\"\n",
    "You are an expert on the video game industry.\n",
    "You can answer multistep questions by sequentially calling functions.\n",
    "You follow a pattern of of Thought and Action. \n",
    "Create a plan of execution: \n",
    "- Use Thought to describe your thoughts about the question you have been asked. \n",
    "- Use Action to specify one of the tools available to you. if you don't have a tool available, you can respond directly.\n",
    "Combine information from multiple sources if needed.\n",
    "When you think it's over, return the answer. \n",
    "Always cite your information sources in your answer.\n",
    "Never try to respond directly if the question needs a tool. \n",
    "But if you don't have a tool available, you can respond directly. \n",
    "The actions you have are the Tools: {tools}.\n",
    "\n",
    "\"\"\"\n",
    "\n",
    "agent = Agent(\n",
    "    model_name=\"gpt-4o-mini\",\n",
    "    tools=tools,\n",
    "    instructions=instructions\n",
    ")\n"
   ]
  },
  {
   "cell_type": "code",
   "execution_count": 13,
   "id": "0ec23893",
   "metadata": {},
   "outputs": [
    {
     "name": "stdout",
     "output_type": "stream",
     "text": [
      "session1: When Pokémon Gold and Silver was released?\n",
      "[StateMachine] Starting: __entry__\n",
      "[StateMachine] Executing step: message_prep\n",
      "[StateMachine] Executing step: llm_processor\n",
      "[StateMachine] Executing step: tool_executor\n",
      "[StateMachine] Executing step: llm_processor\n",
      "[StateMachine] Terminating: __termination__\n",
      "Pokémon Gold and Silver were released in 1999 for the Game Boy Color. These games introduced new regions, Pokémon, and gameplay mechanics as part of the second generation of Pokémon games. \n",
      "\n",
      "Sources:\n",
      "- Game Boy Color: Pokémon Gold and Silver, 1999, Nintendo.\n",
      "\n",
      "session2: Which one was the first 3D platformer Mario game?\n",
      "[StateMachine] Starting: __entry__\n",
      "[StateMachine] Executing step: message_prep\n",
      "[StateMachine] Executing step: llm_processor\n",
      "[StateMachine] Executing step: tool_executor\n",
      "[StateMachine] Executing step: llm_processor\n",
      "[StateMachine] Terminating: __termination__\n",
      "Thought: The question asks for the first 3D platformer game featuring Mario. Super Mario 64 is widely recognized as the groundbreaking title that introduced fully 3D gameplay mechanics for the Mario franchise. It was released in 1996 and set the standard for future 3D platformers.\n",
      "\n",
      "Action: I will consolidate the information about Super Mario 64 and its significance in the gaming industry.\n",
      "\n",
      "Super Mario 64, released in 1996, is considered the first 3D platformer featuring Mario. It is notable for establishing many mechanics that have become staples of the genre, such as open-world exploration and precise character control. While there were earlier games like \"Jumping Flash!\" that featured 3D elements, Super Mario 64 is recognized as the first to successfully implement a fully 3D environment and gameplay that resonated with players, contributing significantly to the evolution of 3D platforming games (sources: SPINE ONLINE, VGChartz).\n",
      "\n",
      "session3: Was Mortal Kombat X realeased for Playstation 5?\n",
      "[StateMachine] Starting: __entry__\n",
      "[StateMachine] Executing step: message_prep\n",
      "[StateMachine] Executing step: llm_processor\n",
      "[StateMachine] Executing step: tool_executor\n",
      "[StateMachine] Executing step: llm_processor\n",
      "[StateMachine] Executing step: tool_executor\n",
      "[StateMachine] Executing step: llm_processor\n",
      "[StateMachine] Terminating: __termination__\n",
      "**Thought:** I need to determine if \"Mortal Kombat X\" was released for the PlayStation 5. Although it's known that the game originally came out in 2015 for earlier consoles, it's important to check if it has been made available for the PS5, either as a backward-compatible title or as a new release.\n",
      "\n",
      "**Action:** I will summarize the findings from the web search regarding \"Mortal Kombat X\" and its availability on PS5.\n",
      "\n",
      "**Findings:** \n",
      "- According to the information retrieved, \"Mortal Kombat X\" is available on the PlayStation 5. \n",
      "- The game was originally released in 2015 for PlayStation 4, but it can be played on the PS5 via backward compatibility.\n",
      "- There is also a mention of a \"Mortal Kombat: Legacy Kollection\" releasing on October 30, 2025, which will include various Mortal Kombat titles but is separate from the original \"Mortal Kombat X\".\n",
      "\n",
      "In conclusion, yes, \"Mortal Kombat X\" is playable on the PlayStation 5. \n",
      "\n",
      "Sources:\n",
      "- [PlayStation Store](https://store.playstation.com/en-us/product/UP1018-CUSA00967_00-MORTALKOMBATX000)\n",
      "- [Mortal Kombat Fandom](https://mortalkombat.fandom.com/wiki/Mortal_Kombat_X)\n",
      "\n"
     ]
    }
   ],
   "source": [
    "# TODO: Invoke your agent\n",
    "queries = [\n",
    "    \"When Pokémon Gold and Silver was released?\",\n",
    "    \"Which one was the first 3D platformer Mario game?\",\n",
    "    \"Was Mortal Kombat X realeased for Playstation 5?\"\n",
    "]\n",
    "\n",
    "for session, q in enumerate(queries, 1):\n",
    "    session_id = f\"session{session}\"\n",
    "    print(f\"{session_id}: {q}\")\n",
    "    run_object = agent.invoke(query=q, session_id=session_id)\n",
    "    print(run_object.get_final_state()[\"messages\"][-1].content)\n",
    "    print()"
   ]
  },
  {
   "cell_type": "markdown",
   "id": "f0a55081",
   "metadata": {},
   "source": [
    "### (Optional) Advanced"
   ]
  },
  {
   "cell_type": "code",
   "execution_count": 12,
   "id": "eb83fbb1",
   "metadata": {},
   "outputs": [],
   "source": [
    "# TODO: Update your agent with long-term memory\n",
    "# TODO: Convert the agent to be a state machine, with the tools being pre-defined nodes"
   ]
  }
 ],
 "metadata": {
  "kernelspec": {
   "display_name": ".venv",
   "language": "python",
   "name": "python3"
  },
  "language_info": {
   "codemirror_mode": {
    "name": "ipython",
    "version": 3
   },
   "file_extension": ".py",
   "mimetype": "text/x-python",
   "name": "python",
   "nbconvert_exporter": "python",
   "pygments_lexer": "ipython3",
   "version": "3.11.7"
  }
 },
 "nbformat": 4,
 "nbformat_minor": 5
}
