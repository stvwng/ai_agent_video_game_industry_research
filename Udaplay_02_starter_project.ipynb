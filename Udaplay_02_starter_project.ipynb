{
 "cells": [
  {
   "cell_type": "markdown",
   "id": "6fdd0bcb",
   "metadata": {},
   "source": [
    "# [STARTER] Udaplay Project"
   ]
  },
  {
   "cell_type": "markdown",
   "id": "9325b035",
   "metadata": {},
   "source": [
    "## Part 02 - Agent\n",
    "\n",
    "In this part of the project, you'll use your VectorDB to be part of your Agent as a tool.\n",
    "\n",
    "You're building UdaPlay, an AI Research Agent for the video game industry. The agent will:\n",
    "1. Answer questions using internal knowledge (RAG)\n",
    "2. Search the web when needed\n",
    "3. Maintain conversation state\n",
    "4. Return structured outputs\n",
    "5. Store useful information for future use"
   ]
  },
  {
   "cell_type": "markdown",
   "id": "2b42de90",
   "metadata": {},
   "source": [
    "### Setup"
   ]
  },
  {
   "cell_type": "code",
   "execution_count": 18,
   "id": "fd10c06e",
   "metadata": {},
   "outputs": [],
   "source": [
    "import os\n",
    "\n",
    "from lib.agents import Agent\n",
    "from lib.llm import LLM\n",
    "from lib.messages import UserMessage, SystemMessage, ToolMessage, AIMessage, BaseMessage\n",
    "from lib.tooling import tool\n",
    "\n",
    "import chromadb\n",
    "from lib.state_machine import Run, Resource\n",
    "from typing import List, TypedDict\n",
    "from chromadb.api.models.Collection import Collection\n",
    "from lib.vector_db import VectorStoreManager, CorpusLoaderService\n",
    "from lib.rag import RAG\n",
    "\n",
    "from chromadb.utils import embedding_functions\n",
    "from typing import Dict\n",
    "from tavily import TavilyClient\n",
    "from datetime import datetime\n",
    "\n",
    "from openai import OpenAI"
   ]
  },
  {
   "cell_type": "code",
   "execution_count": 2,
   "id": "87e465d4",
   "metadata": {},
   "outputs": [],
   "source": [
    "OPENAI_API_KEY = os.getenv(\"OPENAI_API_KEY\")\n",
    "TAVILY_API_KEY = os.getenv(\"TAVILY_API_KEY\")"
   ]
  },
  {
   "cell_type": "markdown",
   "id": "27de4729",
   "metadata": {},
   "source": [
    "### Tools"
   ]
  },
  {
   "cell_type": "markdown",
   "id": "46ab2dac",
   "metadata": {},
   "source": [
    "Build at least 3 tools:\n",
    "- retrieve_game: To search the vector DB\n",
    "- evaluate_retrieval: To assess the retrieval performance\n",
    "- game_web_search: If no good, search the web\n"
   ]
  },
  {
   "cell_type": "markdown",
   "id": "ce4f14cd",
   "metadata": {},
   "source": [
    "#### Retrieve Game Tool"
   ]
  },
  {
   "cell_type": "code",
   "execution_count": 15,
   "id": "b25c36dd",
   "metadata": {},
   "outputs": [],
   "source": [
    "# TODO: Create retrieve_game tool\n",
    "# It should use chroma client and collection you created\n",
    "\n",
    "embedding_fn = embedding_functions.OpenAIEmbeddingFunction(api_key=OPENAI_API_KEY)\n",
    "chroma_client = chromadb.PersistentClient(path=\"chromadb\")\n",
    "collection = chroma_client.get_collection(name=\"udaplay\", embedding_function=embedding_fn)\n",
    "# Need to pass embedding function so dimensions match\n",
    "# The collection was created with an OpenAI embedding model, which has a dimension size of 1536.\n",
    "# However, it appears that Chroma uses an embedding model with a dimension size of 384 to embed the query.\n",
    "# So, if the embedding_function is not passed to get_collection(),  and then\n",
    "# the query() method is called on the collection, this will result in:\n",
    "# chromadb.errors.InvalidArgumentError: Collection expecting embedding with dimension of 1536, got 384\n",
    "# Essentially, the dimensions don't match, and passing embedding_function to get_collections() fixes this.\n",
    "\n",
    "# Tool Docstring:\n",
    "#    Semantic search: Finds most results in the vector DB\n",
    "#    args:\n",
    "#    - query: a question about game industry. \n",
    "#\n",
    "#    You'll receive results as list. Each element contains:\n",
    "#    - Platform: like Game Boy, Playstation 5, Xbox 360...)\n",
    "#    - Name: Name of the Game\n",
    "#    - YearOfRelease: Year when that game was released for that platform\n",
    "#    - Description: Additional details about the game\n",
    "\n",
    "@tool\n",
    "def retrieve_game(query: str):\n",
    "    results = collection.query(\n",
    "    query_texts=[query],\n",
    "    n_results=3,\n",
    "    include=['documents', 'metadatas']\n",
    "    )\n",
    "    return results"
   ]
  },
  {
   "cell_type": "code",
   "execution_count": 16,
   "id": "22460881",
   "metadata": {},
   "outputs": [
    {
     "data": {
      "text/plain": [
       "{'ids': ['001', '002', '003', '004', '005', '006', '007', '008', '009', '010'],\n",
       " 'embeddings': array([[-0.00270652, -0.01438423, -0.0094357 , ..., -0.02086851,\n",
       "         -0.00733747, -0.03789448],\n",
       "        [-0.00149212, -0.02129163,  0.00150162, ..., -0.04491242,\n",
       "         -0.00209182,  0.00053008],\n",
       "        [-0.01168427, -0.00465201,  0.00187931, ..., -0.02636779,\n",
       "         -0.00329597, -0.0358122 ],\n",
       "        ...,\n",
       "        [ 0.01998285, -0.05459335,  0.00992325, ..., -0.02266045,\n",
       "         -0.0161152 ,  0.00111179],\n",
       "        [ 0.00100258, -0.0505378 ,  0.0078321 , ..., -0.01040299,\n",
       "         -0.01144015, -0.01337618],\n",
       "        [-0.01217713, -0.02789508, -0.00563168, ..., -0.0383018 ,\n",
       "         -0.00480359, -0.00478138]], shape=(10, 1536)),\n",
       " 'documents': ['[PlayStation 1] Gran Turismo (1997) - A realistic racing simulator featuring a wide array of cars and tracks, setting a new standard for the genre.',\n",
       "  \"[PlayStation 2] Grand Theft Auto: San Andreas (2004) - An expansive open-world game set in the fictional state of San Andreas, following the story of Carl 'CJ' Johnson.\",\n",
       "  '[PlayStation 3] Gran Turismo 5 (2010) - A comprehensive racing simulator featuring a vast selection of vehicles and tracks, with realistic driving physics.',\n",
       "  \"[PlayStation 4] Marvel's Spider-Man (2018) - An open-world superhero game that lets players swing through New York City as Spider-Man, battling iconic villains.\",\n",
       "  \"[PlayStation 5] Marvel's Spider-Man 2 (2023) - The sequel to the acclaimed Spider-Man game, featuring both Peter Parker and Miles Morales as playable characters.\",\n",
       "  '[Game Boy Color] Pokémon Gold and Silver (1999) - Second-generation Pokémon games introducing new regions, Pokémon, and gameplay mechanics.',\n",
       "  '[Game Boy Advance] Pokémon Ruby and Sapphire (2002) - Third-generation Pokémon games set in the Hoenn region, featuring new Pokémon and double battles.',\n",
       "  '[Super Nintendo Entertainment System (SNES)] Super Mario World (1990) - A classic platformer where Mario embarks on a quest to save Princess Toadstool and Dinosaur Land from Bowser.',\n",
       "  \"[Nintendo 64] Super Mario 64 (1996) - A groundbreaking 3D platformer that set new standards for the genre, featuring Mario's quest to rescue Princess Peach.\",\n",
       "  '[GameCube] Super Smash Bros. Melee (2001) - A crossover fighting game featuring characters from various Nintendo franchises battling it out in dynamic arenas.'],\n",
       " 'uris': None,\n",
       " 'included': ['metadatas', 'documents', 'embeddings'],\n",
       " 'data': None,\n",
       " 'metadatas': [{'Genre': 'Racing',\n",
       "   'Publisher': 'Sony Computer Entertainment',\n",
       "   'YearOfRelease': 1997,\n",
       "   'Description': 'A realistic racing simulator featuring a wide array of cars and tracks, setting a new standard for the genre.',\n",
       "   'Platform': 'PlayStation 1',\n",
       "   'Name': 'Gran Turismo'},\n",
       "  {'Publisher': 'Rockstar Games',\n",
       "   'Platform': 'PlayStation 2',\n",
       "   'Genre': 'Action-adventure',\n",
       "   'Name': 'Grand Theft Auto: San Andreas',\n",
       "   'YearOfRelease': 2004,\n",
       "   'Description': \"An expansive open-world game set in the fictional state of San Andreas, following the story of Carl 'CJ' Johnson.\"},\n",
       "  {'Platform': 'PlayStation 3',\n",
       "   'Publisher': 'Sony Computer Entertainment',\n",
       "   'Genre': 'Racing',\n",
       "   'YearOfRelease': 2010,\n",
       "   'Name': 'Gran Turismo 5',\n",
       "   'Description': 'A comprehensive racing simulator featuring a vast selection of vehicles and tracks, with realistic driving physics.'},\n",
       "  {'Description': 'An open-world superhero game that lets players swing through New York City as Spider-Man, battling iconic villains.',\n",
       "   'Genre': 'Action-adventure',\n",
       "   'Name': \"Marvel's Spider-Man\",\n",
       "   'YearOfRelease': 2018,\n",
       "   'Publisher': 'Sony Interactive Entertainment',\n",
       "   'Platform': 'PlayStation 4'},\n",
       "  {'Description': 'The sequel to the acclaimed Spider-Man game, featuring both Peter Parker and Miles Morales as playable characters.',\n",
       "   'Genre': 'Action-adventure',\n",
       "   'YearOfRelease': 2023,\n",
       "   'Name': \"Marvel's Spider-Man 2\",\n",
       "   'Publisher': 'Sony Interactive Entertainment',\n",
       "   'Platform': 'PlayStation 5'},\n",
       "  {'Platform': 'Game Boy Color',\n",
       "   'YearOfRelease': 1999,\n",
       "   'Genre': 'Role-playing',\n",
       "   'Description': 'Second-generation Pokémon games introducing new regions, Pokémon, and gameplay mechanics.',\n",
       "   'Name': 'Pokémon Gold and Silver',\n",
       "   'Publisher': 'Nintendo'},\n",
       "  {'Name': 'Pokémon Ruby and Sapphire',\n",
       "   'Description': 'Third-generation Pokémon games set in the Hoenn region, featuring new Pokémon and double battles.',\n",
       "   'YearOfRelease': 2002,\n",
       "   'Platform': 'Game Boy Advance',\n",
       "   'Genre': 'Role-playing',\n",
       "   'Publisher': 'Nintendo'},\n",
       "  {'Description': 'A classic platformer where Mario embarks on a quest to save Princess Toadstool and Dinosaur Land from Bowser.',\n",
       "   'Genre': 'Platformer',\n",
       "   'Platform': 'Super Nintendo Entertainment System (SNES)',\n",
       "   'Publisher': 'Nintendo',\n",
       "   'YearOfRelease': 1990,\n",
       "   'Name': 'Super Mario World'},\n",
       "  {'Genre': 'Platformer',\n",
       "   'YearOfRelease': 1996,\n",
       "   'Description': \"A groundbreaking 3D platformer that set new standards for the genre, featuring Mario's quest to rescue Princess Peach.\",\n",
       "   'Publisher': 'Nintendo',\n",
       "   'Name': 'Super Mario 64',\n",
       "   'Platform': 'Nintendo 64'},\n",
       "  {'Publisher': 'Nintendo',\n",
       "   'Genre': 'Fighting',\n",
       "   'Description': 'A crossover fighting game featuring characters from various Nintendo franchises battling it out in dynamic arenas.',\n",
       "   'YearOfRelease': 2001,\n",
       "   'Platform': 'GameCube',\n",
       "   'Name': 'Super Smash Bros. Melee'}]}"
      ]
     },
     "execution_count": 16,
     "metadata": {},
     "output_type": "execute_result"
    }
   ],
   "source": [
    "collection.peek() # confirm collection has been successfully retrieved"
   ]
  },
  {
   "cell_type": "code",
   "execution_count": 17,
   "id": "c25f11f2",
   "metadata": {},
   "outputs": [
    {
     "data": {
      "text/plain": [
       "{'ids': [['003', '001', '002']],\n",
       " 'embeddings': None,\n",
       " 'documents': [['[PlayStation 3] Gran Turismo 5 (2010) - A comprehensive racing simulator featuring a vast selection of vehicles and tracks, with realistic driving physics.',\n",
       "   '[PlayStation 1] Gran Turismo (1997) - A realistic racing simulator featuring a wide array of cars and tracks, setting a new standard for the genre.',\n",
       "   \"[PlayStation 2] Grand Theft Auto: San Andreas (2004) - An expansive open-world game set in the fictional state of San Andreas, following the story of Carl 'CJ' Johnson.\"]],\n",
       " 'uris': None,\n",
       " 'included': ['documents', 'metadatas'],\n",
       " 'data': None,\n",
       " 'metadatas': [[{'Description': 'A comprehensive racing simulator featuring a vast selection of vehicles and tracks, with realistic driving physics.',\n",
       "    'Platform': 'PlayStation 3',\n",
       "    'Genre': 'Racing',\n",
       "    'YearOfRelease': 2010,\n",
       "    'Name': 'Gran Turismo 5',\n",
       "    'Publisher': 'Sony Computer Entertainment'},\n",
       "   {'Genre': 'Racing',\n",
       "    'Platform': 'PlayStation 1',\n",
       "    'Description': 'A realistic racing simulator featuring a wide array of cars and tracks, setting a new standard for the genre.',\n",
       "    'YearOfRelease': 1997,\n",
       "    'Name': 'Gran Turismo',\n",
       "    'Publisher': 'Sony Computer Entertainment'},\n",
       "   {'Publisher': 'Rockstar Games',\n",
       "    'Description': \"An expansive open-world game set in the fictional state of San Andreas, following the story of Carl 'CJ' Johnson.\",\n",
       "    'Genre': 'Action-adventure',\n",
       "    'Name': 'Grand Theft Auto: San Andreas',\n",
       "    'YearOfRelease': 2004,\n",
       "    'Platform': 'PlayStation 2'}]],\n",
       " 'distances': None}"
      ]
     },
     "execution_count": 17,
     "metadata": {},
     "output_type": "execute_result"
    }
   ],
   "source": [
    "question = \"I like to drive. What games would I like?\"\n",
    "answer = retrieve_game(question)\n",
    "\n",
    "answer"
   ]
  },
  {
   "cell_type": "markdown",
   "id": "910dc945",
   "metadata": {},
   "source": [
    "#### Evaluate Retrieval Tool"
   ]
  },
  {
   "cell_type": "code",
   "execution_count": 23,
   "id": "0d9d014b",
   "metadata": {},
   "outputs": [],
   "source": [
    "# TODO: Create evaluate_retrieval tool\n",
    "# You might use an LLM as judge in this tool to evaluate the performance\n",
    "# You need to prompt that LLM with something like:\n",
    "# \"Your task is to evaluate if the documents are enough to respond the query. \"\n",
    "# \"Give a detailed explanation, so it's possible to take an action to accept it or not.\"\n",
    "# Use EvaluationReport to parse the result\n",
    "# Tool Docstring:\n",
    "#    Based on the user's question and on the list of retrieved documents, \n",
    "#    it will analyze the usability of the documents to respond to that question. \n",
    "#    args: \n",
    "#    - question: original question from user\n",
    "#    - retrieved_docs: retrieved documents most similar to the user query in the Vector Database\n",
    "#    The result includes:\n",
    "#    - useful: whether the documents are useful to answer the question\n",
    "#    - description: description about the evaluation result\n",
    "\n",
    "\n",
    "\n",
    "evaluation_prompt = \"\"\"\n",
    "    Your task is to evaluate if the documents are enough to respond to the query. \n",
    "    \n",
    "    OUTPUT FORMAT:\n",
    "    \n",
    "    Your answer should consist of two parts:\n",
    "    1. A boolean value for whether the documents are sufficient to respond to the query.\n",
    "    2. A detailed explanation of your reasoning\n",
    "    \n",
    "    Provide your response as a JSON object in the following format:\n",
    "    \n",
    "    {\n",
    "        \"sufficient\": \"True\" | \"False\",\n",
    "        \"reasoning\": \" ... \"\n",
    "    }\n",
    "    \"\"\"\n",
    "\n",
    "client = OpenAI()\n",
    "\n",
    "@tool\n",
    "def evaluate_retrieval(question: str, retrieved_docs: list[str]):\n",
    "    \n",
    "    input = f\"\"\"\n",
    "\n",
    "    QUERY: {question}\n",
    "    \n",
    "    DOCUMENTS: {retrieved_docs}\n",
    "    \"\"\"\n",
    "\n",
    "    response = client.responses.create(\n",
    "        instructions=evaluation_prompt,\n",
    "        model=\"gpt-4o-mini\",\n",
    "        input=input\n",
    "    )\n",
    "    \n",
    "    return response.output_text"
   ]
  },
  {
   "cell_type": "code",
   "execution_count": 24,
   "id": "fc71845e",
   "metadata": {},
   "outputs": [
    {
     "name": "stdout",
     "output_type": "stream",
     "text": [
      "{\n",
      "    \"sufficient\": \"True\",\n",
      "    \"reasoning\": \"The documents provide information about several driving-related games, specifically naming titles from the Gran Turismo series, which are known for their driving simulation qualities. Additionally, the mention of Grand Theft Auto: San Andreas adds variety by including a game with driving elements within an open-world context. Given the query expresses an interest in driving, the documents sufficiently cover this interest by recommending specific games that align well with that preference.\"\n",
      "}\n"
     ]
    }
   ],
   "source": [
    "print(evaluate_retrieval(question, answer['documents']))\n",
    "\n"
   ]
  },
  {
   "cell_type": "code",
   "execution_count": 27,
   "id": "385779f8",
   "metadata": {},
   "outputs": [
    {
     "name": "stdout",
     "output_type": "stream",
     "text": [
      "{'sufficient': 'False', 'reasoning': 'The documents provided focus solely on various racing games, specifically titles from the Gran Turismo and Grand Theft Auto series. There is no mention of Tetris or any information related to its most recent version and release date. Therefore, the documents do not contain the necessary information to answer the query.'}\n",
      "The documents provided focus solely on various racing games, specifically titles from the Gran Turismo and Grand Theft Auto series. There is no mention of Tetris or any information related to its most recent version and release date. Therefore, the documents do not contain the necessary information to answer the query.\n"
     ]
    }
   ],
   "source": [
    "question2 = \"What is the most recent version of Tetris, and when did it come out?\"\n",
    "eval = evaluate_retrieval(question2, answer['documents'])\n",
    "import json\n",
    "\n",
    "eval_dict = json.loads(eval)\n",
    "print(eval_dict)\n",
    "print(eval_dict[\"reasoning\"])"
   ]
  },
  {
   "cell_type": "markdown",
   "id": "c7935a26",
   "metadata": {},
   "source": [
    "#### Game Web Search Tool"
   ]
  },
  {
   "cell_type": "code",
   "execution_count": 10,
   "id": "2ad698aa",
   "metadata": {},
   "outputs": [],
   "source": [
    "# TODO: Create game_web_search tool\n",
    "# Please use Tavily client to search the web\n",
    "# Tool Docstring:\n",
    "#    Semantic search: Finds most results in the vector DB\n",
    "#    args:\n",
    "#    - question: a question about game industry. \n",
    "\n",
    "@tool\n",
    "def web_search(query: str, search_depth: str = \"advanced\") -> Dict:\n",
    "    \"\"\"\n",
    "    Search the web using Tavily API\n",
    "    args:\n",
    "        query (str): Search query\n",
    "        search_depth (str): Type of search - 'basic' or 'advanced' (default: advanced)\n",
    "    \"\"\"\n",
    "    client = TavilyClient(api_key=TAVILY_API_KEY)\n",
    "    \n",
    "    # Perform the search\n",
    "    search_result = client.search(\n",
    "        query=query,\n",
    "        search_depth=search_depth,\n",
    "        include_answer=True,\n",
    "        include_raw_content=False,\n",
    "        include_images=False\n",
    "    )\n",
    "    \n",
    "    # Format the results\n",
    "    formatted_results = {\n",
    "        \"answer\": search_result.get(\"answer\", \"\"),\n",
    "        \"results\": search_result.get(\"results\", []),\n",
    "        \"search_metadata\": {\n",
    "            \"timestamp\": datetime.now().isoformat(),\n",
    "            \"query\": query\n",
    "        }\n",
    "    }\n",
    "    \n",
    "    return formatted_results"
   ]
  },
  {
   "cell_type": "code",
   "execution_count": 12,
   "id": "dc90a77a",
   "metadata": {},
   "outputs": [
    {
     "data": {
      "text/plain": [
       "{'answer': 'If you like driving, you might enjoy Farming Simulator 25, BeamNG.drive, or Assetto Corsa EVO for realistic experiences.',\n",
       " 'results': [{'url': 'https://www.youtube.com/watch?v=7xVxnZ5Wiio',\n",
       "   'title': 'TOP 25 Best Driving Games (NOT Racing) You MUST Play in 2025',\n",
       "   'content': \"one 14. Farming Simulator 25 — (PC, PS5, XSX/S) Farming Simulator 25 okay this game is actually an open world farming Sim first and foremost but as you can see driving the heavy farming Machinery is a big part of it which makes it great if you love driving especially if you want a driving game with lots of objectives and with hundreds of machines and heavyduty rigs from more than 100 brands you'll experience what it's like to operate this kind of equipment so if you're bored of standard driving [...] your lights at oncoming traffic prompts them to flash back and you'll even need to pull over for mandatory rest brakes every few hours however this one is a full-blown Sim so definitely don't get it if you're just looking for a casual Driving Experience you better gear up or you may 8. Pacific Drive — (PC, PS5) not survive the trip which would make my life easier so Pacific drive this game is as niche as it gets but man it's got something special if you've ever been into games like The Long [...] stranded trucks and you can play in four-player Co-op from start to finish some missions are clearly meant for teamwork so having your friends along will make things way more fun if you actually have any friends that 5. Retrowave — (PC) is retrowave if you grew up in the 80s which means either you're balding or on meds right now you might want to check out this game as you can see it's a game where you just drive endlessly while listening to Banger synthwave music not only that it also Nails\",\n",
       "   'score': 0.6304352,\n",
       "   'raw_content': None},\n",
       "  {'url': 'https://www.topgear.com/car-news/gaming/these-are-50-best-driving-games-all-time',\n",
       "   'title': 'These are the 50 best driving games of all time | Top Gear',\n",
       "   'content': 'There are racing games with pitch-perfect, individually recorded engine sounds, ones with brilliantly realistic renderings of the world’s best racetracks and ones with physics so life-like they’d have gotten professor Stephen Hawking hot under the collar. Then there are racers that are just plain fun – a sub-section of gaming that Super Mario Kart has reigned over for nearly 25 years. [...] 31. ## Need for Speed Hot Pursuit – Xbox 360, PlayStation 3, PC (2010) [...] floating F1 cars that fire rockets would be sweet.',\n",
       "   'score': 0.58465123,\n",
       "   'raw_content': None},\n",
       "  {'url': 'https://simracingcockpit.gg/sim-racing-games/',\n",
       "   'title': 'Sim Racing Games: the Best and Most Realistic Simulators',\n",
       "   'content': 'Using the game’s World Editor, players can also set up elaborate stunts to rival those created by their favourite online personalities, providing almost endless possibilities.\\n\\nIf you enjoy driving with no particular goal in mind, BeamNG is the game for you.\\n\\nRead our guide to BeamNG Drive here.\\n\\nSim Racing Games: the Best and Most Realistic Simulators\\n\\nRichard Baxter [...] Whether you enjoy a good smash and crash scenario in BeamNG.drive or a serious bit of competition in iRacing, these are the best games sim racing developers have on offer:\\n\\n## Assetto Corsa EVO\\n\\nCompatibility: PC (Steam Early Access)  \\nEarly Access RRP: £TBC  \\nRelease: Early Access launched January 16, 2025 | Full release expected autumn 2025 [...] In the latest update, Reiza Studios has added the Le Mans 24-hour race and it is arguably one of the finest Le Mans experiences that you’ll ever get from a sim racing game. Everything from dynamic weather changes to day and night transitions is quite phenomenal. And when you’re tired from all the driving, your AI counterparts can drive till the next stop.',\n",
       "   'score': 0.51413256,\n",
       "   'raw_content': None},\n",
       "  {'url': 'https://www.youtube.com/watch?v=UDNtAPrHK50',\n",
       "   'title': '10 Visually Stunning Driving and Racing Games You NEED to ...',\n",
       "   'content': \"personalize everything from paint colors to tuning their vehicles to Perfection furthermore taxi life offers the unique opportunity to own and manage a taxi company enabling players to acquire and operate renowned car brands within the game for those seeking a relaxed yet immersive driving simulation experience taxi life comes highly recommended next in line is grid Legends a personal favorite from this list serving as a worthy successor to 2019s grid this game embodies everything that Cod [...] meticulously crafted creating an immersive and authentic experience while its level of difficulty May intimidate some players overcoming its challenges brings immense satisfaction after each race boasting realistic physics and impressive Graphics dirt rally 2.0 is undoubtedly a must play for racing enthusiast everywhere next on our list is Need for Speed Unbound this game has garnered mixed reviews from Gamers worldwide but I still stand by recommending it due to its impressive Graphics [...] # 10 Visually Stunning Driving and Racing Games You NEED to Experience\\n## Krypto Mac\\n42700 subscribers\\n16996 likes\\n\\n### Description\\n1438576 views\\nPosted: 4 May 2024\\nForget about Forza Horizon 5 because there are still some driving simulation games out there that feature high graphics. This list will showcase the best realistic driving sim games you can play right now.\\n\\nWatch More:\\n\\nPlease don't forget to subscribe 😊\",\n",
       "   'score': 0.4858686,\n",
       "   'raw_content': None},\n",
       "  {'url': 'https://www.drivingskillsforlife.com/training/games',\n",
       "   'title': 'Driving Simulation Games - Ford Driving Skills for Life',\n",
       "   'content': \"continue to see ads selected through other criteria. [...] # Driving Simulation Games\\n\\nLearn to safely navigate roadways from the comfort of your own home.\\n\\n## Roundabout Simulation\\n\\nDon't let roundabouts throw you for a curve.  Learn how to safely navigate a roundabout.\\n\\nVideo tutorial \\nPlay\\n\\n## Off-road simulation\\n\\nLosing control of your car is a scary situation.  Learn to stay calm without oversteering in this simulation.\\n\\nVideo tutorial \\nPlay\\n\\n## Semi Truck Simulation: Stopping distance [...] These cookies may be set through our site by our advertising partners. They may be used by those companies to build a profile of your interests and show you relevant advertisements on other sites.    They may uniquely identify your browser and internet device. Please be aware that opting out of these cookies does not opt you out of being served all advertising. If you do not allow these cookies, the advertising you experience will be less targeted and may be less relevant to you, but you will\",\n",
       "   'score': 0.40867847,\n",
       "   'raw_content': None}],\n",
       " 'search_metadata': {'timestamp': '2025-10-14T12:45:16.736812',\n",
       "  'query': 'I like to drive. What games would I like?'}}"
      ]
     },
     "execution_count": 12,
     "metadata": {},
     "output_type": "execute_result"
    }
   ],
   "source": [
    "results = web_search(question)\n",
    "results"
   ]
  },
  {
   "cell_type": "markdown",
   "id": "df844b3b",
   "metadata": {},
   "source": [
    "### Agent"
   ]
  },
  {
   "cell_type": "code",
   "execution_count": null,
   "id": "31c56281",
   "metadata": {},
   "outputs": [],
   "source": [
    "# TODO: Create your Agent abstraction using StateMachine\n",
    "# Equip with an appropriate model\n",
    "# Craft a good set of instructions \n",
    "# Plug all Tools you developed"
   ]
  },
  {
   "cell_type": "code",
   "execution_count": null,
   "id": "0ec23893",
   "metadata": {},
   "outputs": [],
   "source": [
    "# TODO: Invoke your agent\n",
    "# - When Pokémon Gold and Silver was released?\n",
    "# - Which one was the first 3D platformer Mario game?\n",
    "# - Was Mortal Kombat X realeased for Playstation 5?"
   ]
  },
  {
   "cell_type": "markdown",
   "id": "f0a55081",
   "metadata": {},
   "source": [
    "### (Optional) Advanced"
   ]
  },
  {
   "cell_type": "code",
   "execution_count": null,
   "id": "eb83fbb1",
   "metadata": {},
   "outputs": [],
   "source": [
    "# TODO: Update your agent with long-term memory\n",
    "# TODO: Convert the agent to be a state machine, with the tools being pre-defined nodes"
   ]
  }
 ],
 "metadata": {
  "kernelspec": {
   "display_name": ".venv",
   "language": "python",
   "name": "python3"
  },
  "language_info": {
   "codemirror_mode": {
    "name": "ipython",
    "version": 3
   },
   "file_extension": ".py",
   "mimetype": "text/x-python",
   "name": "python",
   "nbconvert_exporter": "python",
   "pygments_lexer": "ipython3",
   "version": "3.11.7"
  }
 },
 "nbformat": 4,
 "nbformat_minor": 5
}
