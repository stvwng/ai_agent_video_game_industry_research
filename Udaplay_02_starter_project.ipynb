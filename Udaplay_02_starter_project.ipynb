{
 "cells": [
  {
   "cell_type": "markdown",
   "id": "6fdd0bcb",
   "metadata": {},
   "source": [
    "# [STARTER] Udaplay Project"
   ]
  },
  {
   "cell_type": "markdown",
   "id": "9325b035",
   "metadata": {},
   "source": [
    "## Part 02 - Agent\n",
    "\n",
    "In this part of the project, you'll use your VectorDB to be part of your Agent as a tool.\n",
    "\n",
    "You're building UdaPlay, an AI Research Agent for the video game industry. The agent will:\n",
    "1. Answer questions using internal knowledge (RAG)\n",
    "2. Search the web when needed\n",
    "3. Maintain conversation state\n",
    "4. Return structured outputs\n",
    "5. Store useful information for future use"
   ]
  },
  {
   "cell_type": "markdown",
   "id": "2b42de90",
   "metadata": {},
   "source": [
    "### Setup"
   ]
  },
  {
   "cell_type": "code",
   "execution_count": 1,
   "id": "fd10c06e",
   "metadata": {},
   "outputs": [],
   "source": [
    "import os\n",
    "\n",
    "from lib.agents import Agent\n",
    "from lib.llm import LLM\n",
    "from lib.messages import UserMessage, SystemMessage, ToolMessage, AIMessage, BaseMessage\n",
    "from lib.tooling import tool\n",
    "\n",
    "import chromadb\n",
    "from lib.state_machine import Run, Resource\n",
    "from typing import List, TypedDict\n",
    "from chromadb.api.models.Collection import Collection\n",
    "from lib.vector_db import VectorStoreManager, CorpusLoaderService\n",
    "from lib.rag import RAG\n",
    "\n",
    "from chromadb.utils import embedding_functions"
   ]
  },
  {
   "cell_type": "code",
   "execution_count": 2,
   "id": "87e465d4",
   "metadata": {},
   "outputs": [],
   "source": [
    "OPENAI_API_KEY = os.getenv(\"OPENAI_API_KEY\")\n",
    "TAVILY_API_KEY = os.getenv(\"TAVILY_API_KEY\")"
   ]
  },
  {
   "cell_type": "markdown",
   "id": "27de4729",
   "metadata": {},
   "source": [
    "### Tools"
   ]
  },
  {
   "cell_type": "markdown",
   "id": "46ab2dac",
   "metadata": {},
   "source": [
    "Build at least 3 tools:\n",
    "- retrieve_game: To search the vector DB\n",
    "- evaluate_retrieval: To assess the retrieval performance\n",
    "- game_web_search: If no good, search the web\n"
   ]
  },
  {
   "cell_type": "code",
   "execution_count": null,
   "id": "60fdcb66",
   "metadata": {},
   "outputs": [],
   "source": [
    "\n",
    "\n"
   ]
  },
  {
   "cell_type": "markdown",
   "id": "ce4f14cd",
   "metadata": {},
   "source": [
    "#### Retrieve Game Tool"
   ]
  },
  {
   "cell_type": "code",
   "execution_count": 5,
   "id": "b25c36dd",
   "metadata": {},
   "outputs": [],
   "source": [
    "# TODO: Create retrieve_game tool\n",
    "# It should use chroma client and collection you created\n",
    "\n",
    "embedding_fn = embedding_functions.OpenAIEmbeddingFunction(api_key=OPENAI_API_KEY)\n",
    "chroma_client = chromadb.PersistentClient(path=\"chromadb\")\n",
    "collection = chroma_client.get_collection(name=\"udaplay\", embedding_function=embedding_fn)\n",
    "# Need to pass embedding function so dimensions match\n",
    "# The collection was created with an OpenAI embedding model, which has a dimension size of 1536.\n",
    "# However, it appears that Chroma uses an embedding model with a dimension size of 384 to embed the query.\n",
    "# So, if the embedding_function is not passed to get_collection(),  and then\n",
    "# the query() method is called on the collection, this will result in:\n",
    "# chromadb.errors.InvalidArgumentError: Collection expecting embedding with dimension of 1536, got 384\n",
    "# Essentially, the dimensions don't match, and passing embedding_function to get_collections() fixes this.\n",
    "\n",
    "# Tool Docstring:\n",
    "#    Semantic search: Finds most results in the vector DB\n",
    "#    args:\n",
    "#    - query: a question about game industry. \n",
    "#\n",
    "#    You'll receive results as list. Each element contains:\n",
    "#    - Platform: like Game Boy, Playstation 5, Xbox 360...)\n",
    "#    - Name: Name of the Game\n",
    "#    - YearOfRelease: Year when that game was released for that platform\n",
    "#    - Description: Additional details about the game\n",
    "\n",
    "@tool\n",
    "def retrieve_game(query: str):\n",
    "    results = collection.query(\n",
    "    query_texts=[query],\n",
    "    n_results=3,\n",
    "    include=['metadatas']\n",
    "    )\n",
    "    return results['metadatas'][0] "
   ]
  },
  {
   "cell_type": "code",
   "execution_count": 6,
   "id": "22460881",
   "metadata": {},
   "outputs": [
    {
     "data": {
      "text/plain": [
       "{'ids': ['001', '002', '003', '004', '005', '006', '007', '008', '009', '010'],\n",
       " 'embeddings': array([[-0.00270652, -0.01438423, -0.0094357 , ..., -0.02086851,\n",
       "         -0.00733747, -0.03789448],\n",
       "        [-0.00149212, -0.02129163,  0.00150162, ..., -0.04491242,\n",
       "         -0.00209182,  0.00053008],\n",
       "        [-0.01168427, -0.00465201,  0.00187931, ..., -0.02636779,\n",
       "         -0.00329597, -0.0358122 ],\n",
       "        ...,\n",
       "        [ 0.01998285, -0.05459335,  0.00992325, ..., -0.02266045,\n",
       "         -0.0161152 ,  0.00111179],\n",
       "        [ 0.00100258, -0.0505378 ,  0.0078321 , ..., -0.01040299,\n",
       "         -0.01144015, -0.01337618],\n",
       "        [-0.01217713, -0.02789508, -0.00563168, ..., -0.0383018 ,\n",
       "         -0.00480359, -0.00478138]], shape=(10, 1536)),\n",
       " 'documents': ['[PlayStation 1] Gran Turismo (1997) - A realistic racing simulator featuring a wide array of cars and tracks, setting a new standard for the genre.',\n",
       "  \"[PlayStation 2] Grand Theft Auto: San Andreas (2004) - An expansive open-world game set in the fictional state of San Andreas, following the story of Carl 'CJ' Johnson.\",\n",
       "  '[PlayStation 3] Gran Turismo 5 (2010) - A comprehensive racing simulator featuring a vast selection of vehicles and tracks, with realistic driving physics.',\n",
       "  \"[PlayStation 4] Marvel's Spider-Man (2018) - An open-world superhero game that lets players swing through New York City as Spider-Man, battling iconic villains.\",\n",
       "  \"[PlayStation 5] Marvel's Spider-Man 2 (2023) - The sequel to the acclaimed Spider-Man game, featuring both Peter Parker and Miles Morales as playable characters.\",\n",
       "  '[Game Boy Color] Pokémon Gold and Silver (1999) - Second-generation Pokémon games introducing new regions, Pokémon, and gameplay mechanics.',\n",
       "  '[Game Boy Advance] Pokémon Ruby and Sapphire (2002) - Third-generation Pokémon games set in the Hoenn region, featuring new Pokémon and double battles.',\n",
       "  '[Super Nintendo Entertainment System (SNES)] Super Mario World (1990) - A classic platformer where Mario embarks on a quest to save Princess Toadstool and Dinosaur Land from Bowser.',\n",
       "  \"[Nintendo 64] Super Mario 64 (1996) - A groundbreaking 3D platformer that set new standards for the genre, featuring Mario's quest to rescue Princess Peach.\",\n",
       "  '[GameCube] Super Smash Bros. Melee (2001) - A crossover fighting game featuring characters from various Nintendo franchises battling it out in dynamic arenas.'],\n",
       " 'uris': None,\n",
       " 'included': ['metadatas', 'documents', 'embeddings'],\n",
       " 'data': None,\n",
       " 'metadatas': [{'Description': 'A realistic racing simulator featuring a wide array of cars and tracks, setting a new standard for the genre.',\n",
       "   'Name': 'Gran Turismo',\n",
       "   'YearOfRelease': 1997,\n",
       "   'Genre': 'Racing',\n",
       "   'Platform': 'PlayStation 1',\n",
       "   'Publisher': 'Sony Computer Entertainment'},\n",
       "  {'Name': 'Grand Theft Auto: San Andreas',\n",
       "   'Platform': 'PlayStation 2',\n",
       "   'Genre': 'Action-adventure',\n",
       "   'Description': \"An expansive open-world game set in the fictional state of San Andreas, following the story of Carl 'CJ' Johnson.\",\n",
       "   'Publisher': 'Rockstar Games',\n",
       "   'YearOfRelease': 2004},\n",
       "  {'Description': 'A comprehensive racing simulator featuring a vast selection of vehicles and tracks, with realistic driving physics.',\n",
       "   'YearOfRelease': 2010,\n",
       "   'Genre': 'Racing',\n",
       "   'Name': 'Gran Turismo 5',\n",
       "   'Publisher': 'Sony Computer Entertainment',\n",
       "   'Platform': 'PlayStation 3'},\n",
       "  {'YearOfRelease': 2018,\n",
       "   'Name': \"Marvel's Spider-Man\",\n",
       "   'Platform': 'PlayStation 4',\n",
       "   'Genre': 'Action-adventure',\n",
       "   'Description': 'An open-world superhero game that lets players swing through New York City as Spider-Man, battling iconic villains.',\n",
       "   'Publisher': 'Sony Interactive Entertainment'},\n",
       "  {'Name': \"Marvel's Spider-Man 2\",\n",
       "   'YearOfRelease': 2023,\n",
       "   'Platform': 'PlayStation 5',\n",
       "   'Publisher': 'Sony Interactive Entertainment',\n",
       "   'Genre': 'Action-adventure',\n",
       "   'Description': 'The sequel to the acclaimed Spider-Man game, featuring both Peter Parker and Miles Morales as playable characters.'},\n",
       "  {'Platform': 'Game Boy Color',\n",
       "   'Genre': 'Role-playing',\n",
       "   'Description': 'Second-generation Pokémon games introducing new regions, Pokémon, and gameplay mechanics.',\n",
       "   'Name': 'Pokémon Gold and Silver',\n",
       "   'Publisher': 'Nintendo',\n",
       "   'YearOfRelease': 1999},\n",
       "  {'Publisher': 'Nintendo',\n",
       "   'YearOfRelease': 2002,\n",
       "   'Description': 'Third-generation Pokémon games set in the Hoenn region, featuring new Pokémon and double battles.',\n",
       "   'Name': 'Pokémon Ruby and Sapphire',\n",
       "   'Genre': 'Role-playing',\n",
       "   'Platform': 'Game Boy Advance'},\n",
       "  {'Description': 'A classic platformer where Mario embarks on a quest to save Princess Toadstool and Dinosaur Land from Bowser.',\n",
       "   'Name': 'Super Mario World',\n",
       "   'Platform': 'Super Nintendo Entertainment System (SNES)',\n",
       "   'Genre': 'Platformer',\n",
       "   'YearOfRelease': 1990,\n",
       "   'Publisher': 'Nintendo'},\n",
       "  {'YearOfRelease': 1996,\n",
       "   'Publisher': 'Nintendo',\n",
       "   'Platform': 'Nintendo 64',\n",
       "   'Description': \"A groundbreaking 3D platformer that set new standards for the genre, featuring Mario's quest to rescue Princess Peach.\",\n",
       "   'Name': 'Super Mario 64',\n",
       "   'Genre': 'Platformer'},\n",
       "  {'Description': 'A crossover fighting game featuring characters from various Nintendo franchises battling it out in dynamic arenas.',\n",
       "   'Name': 'Super Smash Bros. Melee',\n",
       "   'Genre': 'Fighting',\n",
       "   'Platform': 'GameCube',\n",
       "   'Publisher': 'Nintendo',\n",
       "   'YearOfRelease': 2001}]}"
      ]
     },
     "execution_count": 6,
     "metadata": {},
     "output_type": "execute_result"
    }
   ],
   "source": [
    "collection.peek() # confirm collection has been successfully retrieved"
   ]
  },
  {
   "cell_type": "code",
   "execution_count": null,
   "id": "d3d29924",
   "metadata": {},
   "outputs": [],
   "source": []
  },
  {
   "cell_type": "code",
   "execution_count": 7,
   "id": "c25f11f2",
   "metadata": {},
   "outputs": [
    {
     "data": {
      "text/plain": [
       "[{'Platform': 'PlayStation 3',\n",
       "  'Publisher': 'Sony Computer Entertainment',\n",
       "  'Description': 'A comprehensive racing simulator featuring a vast selection of vehicles and tracks, with realistic driving physics.',\n",
       "  'YearOfRelease': 2010,\n",
       "  'Name': 'Gran Turismo 5',\n",
       "  'Genre': 'Racing'},\n",
       " {'YearOfRelease': 1997,\n",
       "  'Name': 'Gran Turismo',\n",
       "  'Publisher': 'Sony Computer Entertainment',\n",
       "  'Description': 'A realistic racing simulator featuring a wide array of cars and tracks, setting a new standard for the genre.',\n",
       "  'Platform': 'PlayStation 1',\n",
       "  'Genre': 'Racing'},\n",
       " {'Platform': 'PlayStation 2',\n",
       "  'Genre': 'Action-adventure',\n",
       "  'Publisher': 'Rockstar Games',\n",
       "  'YearOfRelease': 2004,\n",
       "  'Description': \"An expansive open-world game set in the fictional state of San Andreas, following the story of Carl 'CJ' Johnson.\",\n",
       "  'Name': 'Grand Theft Auto: San Andreas'}]"
      ]
     },
     "execution_count": 7,
     "metadata": {},
     "output_type": "execute_result"
    }
   ],
   "source": [
    "question = \"I like to drive. What games would I like?\"\n",
    "answer = retrieve_game(question)\n",
    "\n",
    "answer"
   ]
  },
  {
   "cell_type": "code",
   "execution_count": null,
   "id": "eaa37c70",
   "metadata": {},
   "outputs": [],
   "source": []
  },
  {
   "cell_type": "markdown",
   "id": "910dc945",
   "metadata": {},
   "source": [
    "#### Evaluate Retrieval Tool"
   ]
  },
  {
   "cell_type": "code",
   "execution_count": null,
   "id": "0d9d014b",
   "metadata": {},
   "outputs": [],
   "source": [
    "# TODO: Create evaluate_retrieval tool\n",
    "# You might use an LLM as judge in this tool to evaluate the performance\n",
    "# You need to prompt that LLM with something like:\n",
    "# \"Your task is to evaluate if the documents are enough to respond the query. \"\n",
    "# \"Give a detailed explanation, so it's possible to take an action to accept it or not.\"\n",
    "# Use EvaluationReport to parse the result\n",
    "# Tool Docstring:\n",
    "#    Based on the user's question and on the list of retrieved documents, \n",
    "#    it will analyze the usability of the documents to respond to that question. \n",
    "#    args: \n",
    "#    - question: original question from user\n",
    "#    - retrieved_docs: retrieved documents most similar to the user query in the Vector Database\n",
    "#    The result includes:\n",
    "#    - useful: whether the documents are useful to answer the question\n",
    "#    - description: description about the evaluation result\n",
    "\n",
    "\n",
    "\n",
    "evaluation_prompt = \"\"\"Your task is to evaluate if the documents are enough to respond the query. \n",
    "Give a detailed explanation, so it's possible to take an action to accept it or not.\"\"\"\n",
    "\n",
    "@tool\n",
    "def evaluate_retrieval(question: str, retrieved_docs: list[str]):\n",
    "    "
   ]
  },
  {
   "cell_type": "markdown",
   "id": "c7935a26",
   "metadata": {},
   "source": [
    "#### Game Web Search Tool"
   ]
  },
  {
   "cell_type": "code",
   "execution_count": null,
   "id": "2ad698aa",
   "metadata": {},
   "outputs": [],
   "source": [
    "# TODO: Create game_web_search tool\n",
    "# Please use Tavily client to search the web\n",
    "# Tool Docstring:\n",
    "#    Semantic search: Finds most results in the vector DB\n",
    "#    args:\n",
    "#    - question: a question about game industry. "
   ]
  },
  {
   "cell_type": "markdown",
   "id": "df844b3b",
   "metadata": {},
   "source": [
    "### Agent"
   ]
  },
  {
   "cell_type": "code",
   "execution_count": null,
   "id": "31c56281",
   "metadata": {},
   "outputs": [],
   "source": [
    "# TODO: Create your Agent abstraction using StateMachine\n",
    "# Equip with an appropriate model\n",
    "# Craft a good set of instructions \n",
    "# Plug all Tools you developed"
   ]
  },
  {
   "cell_type": "code",
   "execution_count": null,
   "id": "0ec23893",
   "metadata": {},
   "outputs": [],
   "source": [
    "# TODO: Invoke your agent\n",
    "# - When Pokémon Gold and Silver was released?\n",
    "# - Which one was the first 3D platformer Mario game?\n",
    "# - Was Mortal Kombat X realeased for Playstation 5?"
   ]
  },
  {
   "cell_type": "markdown",
   "id": "f0a55081",
   "metadata": {},
   "source": [
    "### (Optional) Advanced"
   ]
  },
  {
   "cell_type": "code",
   "execution_count": null,
   "id": "eb83fbb1",
   "metadata": {},
   "outputs": [],
   "source": [
    "# TODO: Update your agent with long-term memory\n",
    "# TODO: Convert the agent to be a state machine, with the tools being pre-defined nodes"
   ]
  }
 ],
 "metadata": {
  "kernelspec": {
   "display_name": ".venv",
   "language": "python",
   "name": "python3"
  },
  "language_info": {
   "codemirror_mode": {
    "name": "ipython",
    "version": 3
   },
   "file_extension": ".py",
   "mimetype": "text/x-python",
   "name": "python",
   "nbconvert_exporter": "python",
   "pygments_lexer": "ipython3",
   "version": "3.11.7"
  }
 },
 "nbformat": 4,
 "nbformat_minor": 5
}
